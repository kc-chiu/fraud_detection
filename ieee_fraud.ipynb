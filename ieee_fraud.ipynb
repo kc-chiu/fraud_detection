{
  "nbformat": 4,
  "nbformat_minor": 0,
  "metadata": {
    "colab": {
      "name": "ieee_fraud.ipynb",
      "provenance": [],
      "machine_shape": "hm"
    },
    "kernelspec": {
      "name": "python3",
      "display_name": "Python 3"
    }
  },
  "cells": [
    {
      "cell_type": "markdown",
      "metadata": {
        "id": "NoKwixEEj2o6",
        "colab_type": "text"
      },
      "source": [
        "## Fraud Detection\n",
        "Make Money with Machine Learning week 3 homework  \n",
        "using Kaggle dataset from [IEEE-CIS Fraud Detection](https://www.kaggle.com/c/ieee-fraud-detection/data)  \n",
        "An initial approach to creating a baseline model"
      ]
    },
    {
      "cell_type": "markdown",
      "metadata": {
        "id": "HgDwNSglkHuB",
        "colab_type": "text"
      },
      "source": [
        "### Import required modules"
      ]
    },
    {
      "cell_type": "code",
      "metadata": {
        "id": "_XGvNpkZgX9k",
        "colab_type": "code",
        "colab": {}
      },
      "source": [
        "import numpy as np\n",
        "import pandas as pd\n",
        "import matplotlib.pyplot as plt\n",
        "\n",
        "from sklearn.preprocessing import OneHotEncoder, OrdinalEncoder, StandardScaler\n",
        "from sklearn.impute import SimpleImputer\n",
        "from sklearn.model_selection import StratifiedShuffleSplit\n",
        "from sklearn.linear_model import LogisticRegression\n",
        "from sklearn.metrics import classification_report"
      ],
      "execution_count": 0,
      "outputs": []
    },
    {
      "cell_type": "markdown",
      "metadata": {
        "id": "PpSRgJfEmBcH",
        "colab_type": "text"
      },
      "source": [
        "### Load the training data"
      ]
    },
    {
      "cell_type": "code",
      "metadata": {
        "id": "WoI4zboVqkO5",
        "colab_type": "code",
        "colab": {}
      },
      "source": [
        "train_transaction = pd.read_csv('data/train_transaction.csv')\n",
        "train_identity = pd.read_csv('data/train_identity.csv')"
      ],
      "execution_count": 0,
      "outputs": []
    },
    {
      "cell_type": "code",
      "metadata": {
        "id": "ZnzTVYsjnY3S",
        "colab_type": "code",
        "outputId": "2b53d8e6-9759-4be2-e6ef-854a91b7dccf",
        "colab": {
          "base_uri": "https://localhost:8080/",
          "height": 193
        }
      },
      "source": [
        "train_transaction.head(3)"
      ],
      "execution_count": 5,
      "outputs": [
        {
          "output_type": "execute_result",
          "data": {
            "text/html": [
              "<div>\n",
              "<style scoped>\n",
              "    .dataframe tbody tr th:only-of-type {\n",
              "        vertical-align: middle;\n",
              "    }\n",
              "\n",
              "    .dataframe tbody tr th {\n",
              "        vertical-align: top;\n",
              "    }\n",
              "\n",
              "    .dataframe thead th {\n",
              "        text-align: right;\n",
              "    }\n",
              "</style>\n",
              "<table border=\"1\" class=\"dataframe\">\n",
              "  <thead>\n",
              "    <tr style=\"text-align: right;\">\n",
              "      <th></th>\n",
              "      <th>TransactionID</th>\n",
              "      <th>isFraud</th>\n",
              "      <th>TransactionDT</th>\n",
              "      <th>TransactionAmt</th>\n",
              "      <th>ProductCD</th>\n",
              "      <th>card1</th>\n",
              "      <th>card2</th>\n",
              "      <th>card3</th>\n",
              "      <th>card4</th>\n",
              "      <th>card5</th>\n",
              "      <th>card6</th>\n",
              "      <th>addr1</th>\n",
              "      <th>addr2</th>\n",
              "      <th>dist1</th>\n",
              "      <th>dist2</th>\n",
              "      <th>P_emaildomain</th>\n",
              "      <th>R_emaildomain</th>\n",
              "      <th>C1</th>\n",
              "      <th>C2</th>\n",
              "      <th>C3</th>\n",
              "      <th>C4</th>\n",
              "      <th>C5</th>\n",
              "      <th>C6</th>\n",
              "      <th>C7</th>\n",
              "      <th>C8</th>\n",
              "      <th>C9</th>\n",
              "      <th>C10</th>\n",
              "      <th>C11</th>\n",
              "      <th>C12</th>\n",
              "      <th>C13</th>\n",
              "      <th>C14</th>\n",
              "      <th>D1</th>\n",
              "      <th>D2</th>\n",
              "      <th>D3</th>\n",
              "      <th>D4</th>\n",
              "      <th>D5</th>\n",
              "      <th>D6</th>\n",
              "      <th>D7</th>\n",
              "      <th>D8</th>\n",
              "      <th>D9</th>\n",
              "      <th>...</th>\n",
              "      <th>V300</th>\n",
              "      <th>V301</th>\n",
              "      <th>V302</th>\n",
              "      <th>V303</th>\n",
              "      <th>V304</th>\n",
              "      <th>V305</th>\n",
              "      <th>V306</th>\n",
              "      <th>V307</th>\n",
              "      <th>V308</th>\n",
              "      <th>V309</th>\n",
              "      <th>V310</th>\n",
              "      <th>V311</th>\n",
              "      <th>V312</th>\n",
              "      <th>V313</th>\n",
              "      <th>V314</th>\n",
              "      <th>V315</th>\n",
              "      <th>V316</th>\n",
              "      <th>V317</th>\n",
              "      <th>V318</th>\n",
              "      <th>V319</th>\n",
              "      <th>V320</th>\n",
              "      <th>V321</th>\n",
              "      <th>V322</th>\n",
              "      <th>V323</th>\n",
              "      <th>V324</th>\n",
              "      <th>V325</th>\n",
              "      <th>V326</th>\n",
              "      <th>V327</th>\n",
              "      <th>V328</th>\n",
              "      <th>V329</th>\n",
              "      <th>V330</th>\n",
              "      <th>V331</th>\n",
              "      <th>V332</th>\n",
              "      <th>V333</th>\n",
              "      <th>V334</th>\n",
              "      <th>V335</th>\n",
              "      <th>V336</th>\n",
              "      <th>V337</th>\n",
              "      <th>V338</th>\n",
              "      <th>V339</th>\n",
              "    </tr>\n",
              "  </thead>\n",
              "  <tbody>\n",
              "    <tr>\n",
              "      <th>0</th>\n",
              "      <td>2987000</td>\n",
              "      <td>0</td>\n",
              "      <td>86400</td>\n",
              "      <td>68.5</td>\n",
              "      <td>W</td>\n",
              "      <td>13926</td>\n",
              "      <td>NaN</td>\n",
              "      <td>150.0</td>\n",
              "      <td>discover</td>\n",
              "      <td>142.0</td>\n",
              "      <td>credit</td>\n",
              "      <td>315.0</td>\n",
              "      <td>87.0</td>\n",
              "      <td>19.0</td>\n",
              "      <td>NaN</td>\n",
              "      <td>NaN</td>\n",
              "      <td>NaN</td>\n",
              "      <td>1.0</td>\n",
              "      <td>1.0</td>\n",
              "      <td>0.0</td>\n",
              "      <td>0.0</td>\n",
              "      <td>0.0</td>\n",
              "      <td>1.0</td>\n",
              "      <td>0.0</td>\n",
              "      <td>0.0</td>\n",
              "      <td>1.0</td>\n",
              "      <td>0.0</td>\n",
              "      <td>2.0</td>\n",
              "      <td>0.0</td>\n",
              "      <td>1.0</td>\n",
              "      <td>1.0</td>\n",
              "      <td>14.0</td>\n",
              "      <td>NaN</td>\n",
              "      <td>13.0</td>\n",
              "      <td>NaN</td>\n",
              "      <td>NaN</td>\n",
              "      <td>NaN</td>\n",
              "      <td>NaN</td>\n",
              "      <td>NaN</td>\n",
              "      <td>NaN</td>\n",
              "      <td>...</td>\n",
              "      <td>0.0</td>\n",
              "      <td>0.0</td>\n",
              "      <td>0.0</td>\n",
              "      <td>0.0</td>\n",
              "      <td>0.0</td>\n",
              "      <td>1.0</td>\n",
              "      <td>0.0</td>\n",
              "      <td>117.0</td>\n",
              "      <td>0.0</td>\n",
              "      <td>0.0</td>\n",
              "      <td>0.0</td>\n",
              "      <td>0.0</td>\n",
              "      <td>0.0</td>\n",
              "      <td>0.0</td>\n",
              "      <td>0.0</td>\n",
              "      <td>0.0</td>\n",
              "      <td>0.0</td>\n",
              "      <td>117.0</td>\n",
              "      <td>0.0</td>\n",
              "      <td>0.0</td>\n",
              "      <td>0.0</td>\n",
              "      <td>0.0</td>\n",
              "      <td>NaN</td>\n",
              "      <td>NaN</td>\n",
              "      <td>NaN</td>\n",
              "      <td>NaN</td>\n",
              "      <td>NaN</td>\n",
              "      <td>NaN</td>\n",
              "      <td>NaN</td>\n",
              "      <td>NaN</td>\n",
              "      <td>NaN</td>\n",
              "      <td>NaN</td>\n",
              "      <td>NaN</td>\n",
              "      <td>NaN</td>\n",
              "      <td>NaN</td>\n",
              "      <td>NaN</td>\n",
              "      <td>NaN</td>\n",
              "      <td>NaN</td>\n",
              "      <td>NaN</td>\n",
              "      <td>NaN</td>\n",
              "    </tr>\n",
              "    <tr>\n",
              "      <th>1</th>\n",
              "      <td>2987001</td>\n",
              "      <td>0</td>\n",
              "      <td>86401</td>\n",
              "      <td>29.0</td>\n",
              "      <td>W</td>\n",
              "      <td>2755</td>\n",
              "      <td>404.0</td>\n",
              "      <td>150.0</td>\n",
              "      <td>mastercard</td>\n",
              "      <td>102.0</td>\n",
              "      <td>credit</td>\n",
              "      <td>325.0</td>\n",
              "      <td>87.0</td>\n",
              "      <td>NaN</td>\n",
              "      <td>NaN</td>\n",
              "      <td>gmail.com</td>\n",
              "      <td>NaN</td>\n",
              "      <td>1.0</td>\n",
              "      <td>1.0</td>\n",
              "      <td>0.0</td>\n",
              "      <td>0.0</td>\n",
              "      <td>0.0</td>\n",
              "      <td>1.0</td>\n",
              "      <td>0.0</td>\n",
              "      <td>0.0</td>\n",
              "      <td>0.0</td>\n",
              "      <td>0.0</td>\n",
              "      <td>1.0</td>\n",
              "      <td>0.0</td>\n",
              "      <td>1.0</td>\n",
              "      <td>1.0</td>\n",
              "      <td>0.0</td>\n",
              "      <td>NaN</td>\n",
              "      <td>NaN</td>\n",
              "      <td>0.0</td>\n",
              "      <td>NaN</td>\n",
              "      <td>NaN</td>\n",
              "      <td>NaN</td>\n",
              "      <td>NaN</td>\n",
              "      <td>NaN</td>\n",
              "      <td>...</td>\n",
              "      <td>0.0</td>\n",
              "      <td>0.0</td>\n",
              "      <td>0.0</td>\n",
              "      <td>0.0</td>\n",
              "      <td>0.0</td>\n",
              "      <td>1.0</td>\n",
              "      <td>0.0</td>\n",
              "      <td>0.0</td>\n",
              "      <td>0.0</td>\n",
              "      <td>0.0</td>\n",
              "      <td>0.0</td>\n",
              "      <td>0.0</td>\n",
              "      <td>0.0</td>\n",
              "      <td>0.0</td>\n",
              "      <td>0.0</td>\n",
              "      <td>0.0</td>\n",
              "      <td>0.0</td>\n",
              "      <td>0.0</td>\n",
              "      <td>0.0</td>\n",
              "      <td>0.0</td>\n",
              "      <td>0.0</td>\n",
              "      <td>0.0</td>\n",
              "      <td>NaN</td>\n",
              "      <td>NaN</td>\n",
              "      <td>NaN</td>\n",
              "      <td>NaN</td>\n",
              "      <td>NaN</td>\n",
              "      <td>NaN</td>\n",
              "      <td>NaN</td>\n",
              "      <td>NaN</td>\n",
              "      <td>NaN</td>\n",
              "      <td>NaN</td>\n",
              "      <td>NaN</td>\n",
              "      <td>NaN</td>\n",
              "      <td>NaN</td>\n",
              "      <td>NaN</td>\n",
              "      <td>NaN</td>\n",
              "      <td>NaN</td>\n",
              "      <td>NaN</td>\n",
              "      <td>NaN</td>\n",
              "    </tr>\n",
              "    <tr>\n",
              "      <th>2</th>\n",
              "      <td>2987002</td>\n",
              "      <td>0</td>\n",
              "      <td>86469</td>\n",
              "      <td>59.0</td>\n",
              "      <td>W</td>\n",
              "      <td>4663</td>\n",
              "      <td>490.0</td>\n",
              "      <td>150.0</td>\n",
              "      <td>visa</td>\n",
              "      <td>166.0</td>\n",
              "      <td>debit</td>\n",
              "      <td>330.0</td>\n",
              "      <td>87.0</td>\n",
              "      <td>287.0</td>\n",
              "      <td>NaN</td>\n",
              "      <td>outlook.com</td>\n",
              "      <td>NaN</td>\n",
              "      <td>1.0</td>\n",
              "      <td>1.0</td>\n",
              "      <td>0.0</td>\n",
              "      <td>0.0</td>\n",
              "      <td>0.0</td>\n",
              "      <td>1.0</td>\n",
              "      <td>0.0</td>\n",
              "      <td>0.0</td>\n",
              "      <td>1.0</td>\n",
              "      <td>0.0</td>\n",
              "      <td>1.0</td>\n",
              "      <td>0.0</td>\n",
              "      <td>1.0</td>\n",
              "      <td>1.0</td>\n",
              "      <td>0.0</td>\n",
              "      <td>NaN</td>\n",
              "      <td>NaN</td>\n",
              "      <td>0.0</td>\n",
              "      <td>NaN</td>\n",
              "      <td>NaN</td>\n",
              "      <td>NaN</td>\n",
              "      <td>NaN</td>\n",
              "      <td>NaN</td>\n",
              "      <td>...</td>\n",
              "      <td>0.0</td>\n",
              "      <td>0.0</td>\n",
              "      <td>0.0</td>\n",
              "      <td>0.0</td>\n",
              "      <td>0.0</td>\n",
              "      <td>1.0</td>\n",
              "      <td>0.0</td>\n",
              "      <td>0.0</td>\n",
              "      <td>0.0</td>\n",
              "      <td>0.0</td>\n",
              "      <td>0.0</td>\n",
              "      <td>0.0</td>\n",
              "      <td>0.0</td>\n",
              "      <td>0.0</td>\n",
              "      <td>0.0</td>\n",
              "      <td>0.0</td>\n",
              "      <td>0.0</td>\n",
              "      <td>0.0</td>\n",
              "      <td>0.0</td>\n",
              "      <td>0.0</td>\n",
              "      <td>0.0</td>\n",
              "      <td>0.0</td>\n",
              "      <td>NaN</td>\n",
              "      <td>NaN</td>\n",
              "      <td>NaN</td>\n",
              "      <td>NaN</td>\n",
              "      <td>NaN</td>\n",
              "      <td>NaN</td>\n",
              "      <td>NaN</td>\n",
              "      <td>NaN</td>\n",
              "      <td>NaN</td>\n",
              "      <td>NaN</td>\n",
              "      <td>NaN</td>\n",
              "      <td>NaN</td>\n",
              "      <td>NaN</td>\n",
              "      <td>NaN</td>\n",
              "      <td>NaN</td>\n",
              "      <td>NaN</td>\n",
              "      <td>NaN</td>\n",
              "      <td>NaN</td>\n",
              "    </tr>\n",
              "  </tbody>\n",
              "</table>\n",
              "<p>3 rows × 394 columns</p>\n",
              "</div>"
            ],
            "text/plain": [
              "   TransactionID  isFraud  TransactionDT  ...  V337 V338  V339\n",
              "0        2987000        0          86400  ...   NaN  NaN   NaN\n",
              "1        2987001        0          86401  ...   NaN  NaN   NaN\n",
              "2        2987002        0          86469  ...   NaN  NaN   NaN\n",
              "\n",
              "[3 rows x 394 columns]"
            ]
          },
          "metadata": {
            "tags": []
          },
          "execution_count": 5
        }
      ]
    },
    {
      "cell_type": "code",
      "metadata": {
        "id": "_t-JFZ2wojWr",
        "colab_type": "code",
        "outputId": "e9bd0718-1e6e-4f48-829b-bd87d852ab99",
        "colab": {
          "base_uri": "https://localhost:8080/",
          "height": 250
        }
      },
      "source": [
        "train_identity.head(3)"
      ],
      "execution_count": 6,
      "outputs": [
        {
          "output_type": "execute_result",
          "data": {
            "text/html": [
              "<div>\n",
              "<style scoped>\n",
              "    .dataframe tbody tr th:only-of-type {\n",
              "        vertical-align: middle;\n",
              "    }\n",
              "\n",
              "    .dataframe tbody tr th {\n",
              "        vertical-align: top;\n",
              "    }\n",
              "\n",
              "    .dataframe thead th {\n",
              "        text-align: right;\n",
              "    }\n",
              "</style>\n",
              "<table border=\"1\" class=\"dataframe\">\n",
              "  <thead>\n",
              "    <tr style=\"text-align: right;\">\n",
              "      <th></th>\n",
              "      <th>TransactionID</th>\n",
              "      <th>id_01</th>\n",
              "      <th>id_02</th>\n",
              "      <th>id_03</th>\n",
              "      <th>id_04</th>\n",
              "      <th>id_05</th>\n",
              "      <th>id_06</th>\n",
              "      <th>id_07</th>\n",
              "      <th>id_08</th>\n",
              "      <th>id_09</th>\n",
              "      <th>id_10</th>\n",
              "      <th>id_11</th>\n",
              "      <th>id_12</th>\n",
              "      <th>id_13</th>\n",
              "      <th>id_14</th>\n",
              "      <th>id_15</th>\n",
              "      <th>id_16</th>\n",
              "      <th>id_17</th>\n",
              "      <th>id_18</th>\n",
              "      <th>id_19</th>\n",
              "      <th>id_20</th>\n",
              "      <th>id_21</th>\n",
              "      <th>id_22</th>\n",
              "      <th>id_23</th>\n",
              "      <th>id_24</th>\n",
              "      <th>id_25</th>\n",
              "      <th>id_26</th>\n",
              "      <th>id_27</th>\n",
              "      <th>id_28</th>\n",
              "      <th>id_29</th>\n",
              "      <th>id_30</th>\n",
              "      <th>id_31</th>\n",
              "      <th>id_32</th>\n",
              "      <th>id_33</th>\n",
              "      <th>id_34</th>\n",
              "      <th>id_35</th>\n",
              "      <th>id_36</th>\n",
              "      <th>id_37</th>\n",
              "      <th>id_38</th>\n",
              "      <th>DeviceType</th>\n",
              "      <th>DeviceInfo</th>\n",
              "    </tr>\n",
              "  </thead>\n",
              "  <tbody>\n",
              "    <tr>\n",
              "      <th>0</th>\n",
              "      <td>2987004</td>\n",
              "      <td>0.0</td>\n",
              "      <td>70787.0</td>\n",
              "      <td>NaN</td>\n",
              "      <td>NaN</td>\n",
              "      <td>NaN</td>\n",
              "      <td>NaN</td>\n",
              "      <td>NaN</td>\n",
              "      <td>NaN</td>\n",
              "      <td>NaN</td>\n",
              "      <td>NaN</td>\n",
              "      <td>100.0</td>\n",
              "      <td>NotFound</td>\n",
              "      <td>NaN</td>\n",
              "      <td>-480.0</td>\n",
              "      <td>New</td>\n",
              "      <td>NotFound</td>\n",
              "      <td>166.0</td>\n",
              "      <td>NaN</td>\n",
              "      <td>542.0</td>\n",
              "      <td>144.0</td>\n",
              "      <td>NaN</td>\n",
              "      <td>NaN</td>\n",
              "      <td>NaN</td>\n",
              "      <td>NaN</td>\n",
              "      <td>NaN</td>\n",
              "      <td>NaN</td>\n",
              "      <td>NaN</td>\n",
              "      <td>New</td>\n",
              "      <td>NotFound</td>\n",
              "      <td>Android 7.0</td>\n",
              "      <td>samsung browser 6.2</td>\n",
              "      <td>32.0</td>\n",
              "      <td>2220x1080</td>\n",
              "      <td>match_status:2</td>\n",
              "      <td>T</td>\n",
              "      <td>F</td>\n",
              "      <td>T</td>\n",
              "      <td>T</td>\n",
              "      <td>mobile</td>\n",
              "      <td>SAMSUNG SM-G892A Build/NRD90M</td>\n",
              "    </tr>\n",
              "    <tr>\n",
              "      <th>1</th>\n",
              "      <td>2987008</td>\n",
              "      <td>-5.0</td>\n",
              "      <td>98945.0</td>\n",
              "      <td>NaN</td>\n",
              "      <td>NaN</td>\n",
              "      <td>0.0</td>\n",
              "      <td>-5.0</td>\n",
              "      <td>NaN</td>\n",
              "      <td>NaN</td>\n",
              "      <td>NaN</td>\n",
              "      <td>NaN</td>\n",
              "      <td>100.0</td>\n",
              "      <td>NotFound</td>\n",
              "      <td>49.0</td>\n",
              "      <td>-300.0</td>\n",
              "      <td>New</td>\n",
              "      <td>NotFound</td>\n",
              "      <td>166.0</td>\n",
              "      <td>NaN</td>\n",
              "      <td>621.0</td>\n",
              "      <td>500.0</td>\n",
              "      <td>NaN</td>\n",
              "      <td>NaN</td>\n",
              "      <td>NaN</td>\n",
              "      <td>NaN</td>\n",
              "      <td>NaN</td>\n",
              "      <td>NaN</td>\n",
              "      <td>NaN</td>\n",
              "      <td>New</td>\n",
              "      <td>NotFound</td>\n",
              "      <td>iOS 11.1.2</td>\n",
              "      <td>mobile safari 11.0</td>\n",
              "      <td>32.0</td>\n",
              "      <td>1334x750</td>\n",
              "      <td>match_status:1</td>\n",
              "      <td>T</td>\n",
              "      <td>F</td>\n",
              "      <td>F</td>\n",
              "      <td>T</td>\n",
              "      <td>mobile</td>\n",
              "      <td>iOS Device</td>\n",
              "    </tr>\n",
              "    <tr>\n",
              "      <th>2</th>\n",
              "      <td>2987010</td>\n",
              "      <td>-5.0</td>\n",
              "      <td>191631.0</td>\n",
              "      <td>0.0</td>\n",
              "      <td>0.0</td>\n",
              "      <td>0.0</td>\n",
              "      <td>0.0</td>\n",
              "      <td>NaN</td>\n",
              "      <td>NaN</td>\n",
              "      <td>0.0</td>\n",
              "      <td>0.0</td>\n",
              "      <td>100.0</td>\n",
              "      <td>NotFound</td>\n",
              "      <td>52.0</td>\n",
              "      <td>NaN</td>\n",
              "      <td>Found</td>\n",
              "      <td>Found</td>\n",
              "      <td>121.0</td>\n",
              "      <td>NaN</td>\n",
              "      <td>410.0</td>\n",
              "      <td>142.0</td>\n",
              "      <td>NaN</td>\n",
              "      <td>NaN</td>\n",
              "      <td>NaN</td>\n",
              "      <td>NaN</td>\n",
              "      <td>NaN</td>\n",
              "      <td>NaN</td>\n",
              "      <td>NaN</td>\n",
              "      <td>Found</td>\n",
              "      <td>Found</td>\n",
              "      <td>NaN</td>\n",
              "      <td>chrome 62.0</td>\n",
              "      <td>NaN</td>\n",
              "      <td>NaN</td>\n",
              "      <td>NaN</td>\n",
              "      <td>F</td>\n",
              "      <td>F</td>\n",
              "      <td>T</td>\n",
              "      <td>T</td>\n",
              "      <td>desktop</td>\n",
              "      <td>Windows</td>\n",
              "    </tr>\n",
              "  </tbody>\n",
              "</table>\n",
              "</div>"
            ],
            "text/plain": [
              "   TransactionID  id_01  ...  DeviceType                     DeviceInfo\n",
              "0        2987004    0.0  ...      mobile  SAMSUNG SM-G892A Build/NRD90M\n",
              "1        2987008   -5.0  ...      mobile                     iOS Device\n",
              "2        2987010   -5.0  ...     desktop                        Windows\n",
              "\n",
              "[3 rows x 41 columns]"
            ]
          },
          "metadata": {
            "tags": []
          },
          "execution_count": 6
        }
      ]
    },
    {
      "cell_type": "code",
      "metadata": {
        "id": "YH3xuyVJovu8",
        "colab_type": "code",
        "outputId": "9ecd1edc-7e93-4604-d421-a0182e8db3d4",
        "colab": {
          "base_uri": "https://localhost:8080/",
          "height": 54
        }
      },
      "source": [
        "print(f'Shape of train_transaction: {train_transaction.shape}')\n",
        "print(f'Shape of train_identity: {train_identity.shape}')"
      ],
      "execution_count": 7,
      "outputs": [
        {
          "output_type": "stream",
          "text": [
            "Shape of train_transaction: (590540, 394)\n",
            "Shape of train_identity: (144233, 41)\n"
          ],
          "name": "stdout"
        }
      ]
    },
    {
      "cell_type": "markdown",
      "metadata": {
        "id": "pOeddATXpKNa",
        "colab_type": "text"
      },
      "source": [
        "The data were broken into Transaction and Identity tables which are joined by TransactionID  \n",
        "\n",
        "The following features are categorical:\n",
        "\n",
        "Transaction data\n",
        "- ProductCD\n",
        "- card1 - card6\n",
        "- addr1, addr2\n",
        "- P_emaildomain\n",
        "- R_emaildomain\n",
        "- M1 - M9\n",
        "\n",
        "Identity data\n",
        "\n",
        "- DeviceType\n",
        "- DeviceInfo\n",
        "- id_12 - id_38\n",
        "\n",
        "For details, check [Data Description and Discussion](https://www.kaggle.com/c/ieee-fraud-detection/discussion/101203) on Kaggle website."
      ]
    },
    {
      "cell_type": "markdown",
      "metadata": {
        "id": "WX4F4Ld8tGs3",
        "colab_type": "text"
      },
      "source": [
        "### How to merge the Transaction and Identity tables?"
      ]
    },
    {
      "cell_type": "markdown",
      "metadata": {
        "id": "45zLF-SV85ah",
        "colab_type": "text"
      },
      "source": [
        "Transaction table has more TransactionID than Identity table. Union merge will introduce a lot of missing values in the merged data. On the other hand, intersectin merge will drop data of a lot of TransactionID."
      ]
    },
    {
      "cell_type": "markdown",
      "metadata": {
        "id": "hIrHLl_LApre",
        "colab_type": "text"
      },
      "source": [
        "#### Union merge?"
      ]
    },
    {
      "cell_type": "code",
      "metadata": {
        "id": "1i34rJUfAoNq",
        "colab_type": "code",
        "outputId": "517df8fd-04e7-4aa3-f950-2adff5ada9d1",
        "colab": {
          "base_uri": "https://localhost:8080/",
          "height": 54
        }
      },
      "source": [
        "df = pd.merge(train_transaction, train_identity, on='TransactionID', how='outer')\n",
        "print(f'Shape of union merge: {df.shape}')\n",
        "print(f'% of fraud transactions = {df.isFraud.value_counts(normalize=True)[1]}')"
      ],
      "execution_count": 8,
      "outputs": [
        {
          "output_type": "stream",
          "text": [
            "Shape of union merge: (590540, 434)\n",
            "% of fraud transactions = 0.03499000914417313\n"
          ],
          "name": "stdout"
        }
      ]
    },
    {
      "cell_type": "markdown",
      "metadata": {
        "id": "xb7LFoYnCXmi",
        "colab_type": "text"
      },
      "source": [
        "#### Intersection merge?"
      ]
    },
    {
      "cell_type": "code",
      "metadata": {
        "id": "B6OLxbz4Bl_g",
        "colab_type": "code",
        "outputId": "91fbaceb-0cfd-4bdb-e613-e247a9768220",
        "colab": {
          "base_uri": "https://localhost:8080/",
          "height": 54
        }
      },
      "source": [
        "df = pd.merge(train_transaction, train_identity, on='TransactionID', how='inner')\n",
        "print(f'Shape of intersection merge: {df.shape}')\n",
        "print(f'% of fraud transactions = {df.isFraud.value_counts(normalize=True)[1]}')"
      ],
      "execution_count": 9,
      "outputs": [
        {
          "output_type": "stream",
          "text": [
            "Shape of intersection merge: (144233, 434)\n",
            "% of fraud transactions = 0.07847025299342036\n"
          ],
          "name": "stdout"
        }
      ]
    },
    {
      "cell_type": "markdown",
      "metadata": {
        "id": "cD1ZP1myCuND",
        "colab_type": "text"
      },
      "source": [
        "#### Go ahead with intersection merge\n",
        "Although intersection merge resulted in less TransactionID, the % of fraud transactions is higher than that of union merge. As an initial baseline attempt, we shall use intersection merge to reduce the need for handling too many missing values."
      ]
    },
    {
      "cell_type": "markdown",
      "metadata": {
        "id": "zfvtJ3RH85KW",
        "colab_type": "text"
      },
      "source": [
        "### Create features matrix X and target vector y"
      ]
    },
    {
      "cell_type": "code",
      "metadata": {
        "id": "pR6cUduTfu3I",
        "colab_type": "code",
        "colab": {}
      },
      "source": [
        "# Exclude target and indexing columns from input features\n",
        "X = df.drop(columns=['isFraud', 'TransactionDT', 'TransactionID'])\n",
        "y = df['isFraud']\n",
        "del df # to save some memory"
      ],
      "execution_count": 0,
      "outputs": []
    },
    {
      "cell_type": "markdown",
      "metadata": {
        "id": "TA6FSU89NUGU",
        "colab_type": "text"
      },
      "source": [
        "### Drop features with more than 90% of one single value or just missing value\n",
        "With such high % of a constant value, the feature might not have much effect on the transaction. A simple initial approach again."
      ]
    },
    {
      "cell_type": "code",
      "metadata": {
        "id": "g23riJgrMoUt",
        "colab_type": "code",
        "outputId": "1096d2cf-da68-4f2f-f3ed-c33bbf9e2f25",
        "colab": {
          "base_uri": "https://localhost:8080/",
          "height": 74
        }
      },
      "source": [
        "cols_to_drop = [col for col in X if X[col].value_counts(dropna=False, normalize=True).iloc[0]>0.9]\n",
        "X = X.drop(columns=cols_to_drop)\n",
        "print(f'Columns dropped: {cols_to_drop}')\n",
        "print(f'Number of columns dropped: {len(cols_to_drop)}')"
      ],
      "execution_count": 11,
      "outputs": [
        {
          "output_type": "stream",
          "text": [
            "Columns dropped: ['dist1', 'C3', 'C5', 'C9', 'D11', 'M1', 'M2', 'M3', 'M5', 'M6', 'M7', 'M8', 'M9', 'V1', 'V2', 'V3', 'V4', 'V5', 'V6', 'V7', 'V8', 'V9', 'V10', 'V11', 'V98', 'V99', 'V100', 'V101', 'V102', 'V103', 'V104', 'V105', 'V106', 'V107', 'V108', 'V109', 'V110', 'V111', 'V112', 'V113', 'V114', 'V115', 'V116', 'V117', 'V118', 'V119', 'V120', 'V121', 'V122', 'V123', 'V124', 'V125', 'V129', 'V130', 'V131', 'V132', 'V133', 'V134', 'V135', 'V136', 'V137', 'V169', 'V173', 'V186', 'V187', 'V191', 'V192', 'V193', 'V196', 'V206', 'V220', 'V238', 'V240', 'V241', 'V281', 'V284', 'V286', 'V296', 'V297', 'V298', 'V299', 'V300', 'V301', 'V302', 'V304', 'V305', 'V309', 'V311', 'V319', 'V320', 'V321', 'id_07', 'id_08', 'id_11', 'id_21', 'id_22', 'id_23', 'id_24', 'id_25', 'id_26', 'id_27', 'id_36']\n",
            "Number of columns dropped: 102\n"
          ],
          "name": "stdout"
        }
      ]
    },
    {
      "cell_type": "markdown",
      "metadata": {
        "id": "A5YM3ohd7UIK",
        "colab_type": "text"
      },
      "source": [
        "### Create lists of categorical features and numerical features\n",
        "#### Categorical features (as given by data provider)\n",
        "ProductCD, \n",
        "card1 - card6, \n",
        "addr1, addr2, \n",
        "P_emaildomain, R_emaildomain, \n",
        "M1 - M9\n",
        "\n",
        "DeviceType, \n",
        "DeviceInfo, \n",
        "id_12 - id_38"
      ]
    },
    {
      "cell_type": "code",
      "metadata": {
        "id": "NXIWyP-e4J0G",
        "colab_type": "code",
        "colab": {}
      },
      "source": [
        "cat_cols = (['ProductCD'] \n",
        "            + [f'card{i}' for i in range(1, 7)]\n",
        "            + ['addr1', 'addr2']\n",
        "            + ['P_emaildomain', 'R_emaildomain']\n",
        "            + [f'M{i}' for i in range(1, 10)]\n",
        "            + ['DeviceType', 'DeviceInfo']\n",
        "            + [f'id_{i}' for i in range(12, 39)])\n",
        "# Keep only columns still in X\n",
        "cat_cols = [col for col in cat_cols if col in X]\n",
        "# Create list of numerical columns\n",
        "num_cols = [col for col in X if col not in cat_cols]"
      ],
      "execution_count": 0,
      "outputs": []
    },
    {
      "cell_type": "markdown",
      "metadata": {
        "id": "9Ur5C7MTB-of",
        "colab_type": "text"
      },
      "source": [
        "### Explore the categorical features"
      ]
    },
    {
      "cell_type": "code",
      "metadata": {
        "id": "L22CETx_rzY-",
        "colab_type": "code",
        "outputId": "8b7f68bc-b4ea-4e53-ca84-ffc54248b308",
        "colab": {
          "base_uri": "https://localhost:8080/",
          "height": 728
        }
      },
      "source": [
        "X[cat_cols].info()"
      ],
      "execution_count": 13,
      "outputs": [
        {
          "output_type": "stream",
          "text": [
            "<class 'pandas.core.frame.DataFrame'>\n",
            "Int64Index: 144233 entries, 0 to 144232\n",
            "Data columns (total 33 columns):\n",
            "ProductCD        144233 non-null object\n",
            "card1            144233 non-null int64\n",
            "card2            143331 non-null float64\n",
            "card3            144061 non-null float64\n",
            "card4            144049 non-null object\n",
            "card5            143277 non-null float64\n",
            "card6            144055 non-null object\n",
            "addr1            83786 non-null float64\n",
            "addr2            83786 non-null float64\n",
            "P_emaildomain    130842 non-null object\n",
            "R_emaildomain    131083 non-null object\n",
            "M4               60831 non-null object\n",
            "DeviceType       140810 non-null object\n",
            "DeviceInfo       118666 non-null object\n",
            "id_12            144233 non-null object\n",
            "id_13            127320 non-null float64\n",
            "id_14            80044 non-null float64\n",
            "id_15            140985 non-null object\n",
            "id_16            129340 non-null object\n",
            "id_17            139369 non-null float64\n",
            "id_18            45113 non-null float64\n",
            "id_19            139318 non-null float64\n",
            "id_20            139261 non-null float64\n",
            "id_28            140978 non-null object\n",
            "id_29            140978 non-null object\n",
            "id_30            77565 non-null object\n",
            "id_31            140282 non-null object\n",
            "id_32            77586 non-null float64\n",
            "id_33            73289 non-null object\n",
            "id_34            77805 non-null object\n",
            "id_35            140985 non-null object\n",
            "id_37            140985 non-null object\n",
            "id_38            140985 non-null object\n",
            "dtypes: float64(12), int64(1), object(20)\n",
            "memory usage: 37.4+ MB\n"
          ],
          "name": "stdout"
        }
      ]
    },
    {
      "cell_type": "markdown",
      "metadata": {
        "id": "IP10AkuODHT2",
        "colab_type": "text"
      },
      "source": [
        "- 13 features contain numeric values (dtypes float64(12), int64(1)\n",
        "- 20 features contain object values (i.e. string values in this case)."
      ]
    },
    {
      "cell_type": "markdown",
      "metadata": {
        "id": "a9uzX7mfY-ZI",
        "colab_type": "text"
      },
      "source": [
        "#### Work with the 'object' dtype columns first"
      ]
    },
    {
      "cell_type": "code",
      "metadata": {
        "id": "u2NO66ZgCZky",
        "colab_type": "code",
        "colab": {}
      },
      "source": [
        "obj_cols = [col for col in cat_cols if X[col].dtype=='object']"
      ],
      "execution_count": 0,
      "outputs": []
    },
    {
      "cell_type": "code",
      "metadata": {
        "id": "UXIT_xf6ch68",
        "colab_type": "code",
        "outputId": "3a9232ab-25fe-4080-b45b-fb0eedaff7ac",
        "colab": {
          "base_uri": "https://localhost:8080/",
          "height": 362
        }
      },
      "source": [
        "X[obj_cols] = X[obj_cols].fillna('unknown')\n",
        "all_cats = X[obj_cols].apply(lambda x: x.nunique())\n",
        "fraud_cats = X.loc[y==1][obj_cols].apply(lambda x: x.nunique())\n",
        "fraud_ratios = fraud_cats / all_cats\n",
        "plt.bar(fraud_ratios.index, fraud_ratios, \n",
        "        color=['red' if ratio < 1 else 'blue' for ratio in fraud_ratios])\n",
        "plt.xticks(rotation='vertical')\n",
        "plt.ylabel('Ratio')\n",
        "plt.xlabel('Feature',)\n",
        "plt.title('Ratio of Categories Involved in Frauds per Feature')\n",
        "plt.show()"
      ],
      "execution_count": 16,
      "outputs": [
        {
          "output_type": "display_data",
          "data": {
            "image/png": "[encoded data removed]",
            "text/plain": [
              "<Figure size 432x288 with 1 Axes>"
            ]
          },
          "metadata": {
            "tags": []
          }
        }
      ]
    },
    {
      "cell_type": "markdown",
      "metadata": {
        "id": "uDSggV3-lycb",
        "colab_type": "text"
      },
      "source": [
        "Red bars are features with categories not involved in frauds. They might be an opportunity for reducing number of categories.    \n",
        "Let us see if it is possible."
      ]
    },
    {
      "cell_type": "code",
      "metadata": {
        "id": "g2inkxetxgCy",
        "colab_type": "code",
        "outputId": "2334015d-d983-4bc1-a71c-fd02107affda",
        "colab": {
          "base_uri": "https://localhost:8080/",
          "height": 935
        }
      },
      "source": [
        "for col in obj_cols:\n",
        "    set_all_cats = set(X[col].value_counts().index)\n",
        "    set_fraud_cats = set(X.loc[y==1][col].value_counts().index) \n",
        "    print(f'{col}, Categories not involved in frauds = {len(set_all_cats) - len(set_fraud_cats)}')\n",
        "    if len(set_all_cats) - len(set_fraud_cats) > 0:\n",
        "        print(set_all_cats - set_fraud_cats)\n",
        "    print()"
      ],
      "execution_count": 18,
      "outputs": [
        {
          "output_type": "stream",
          "text": [
            "ProductCD, Categories not involved in frauds = 0\n",
            "\n",
            "card4, Categories not involved in frauds = 0\n",
            "\n",
            "card6, Categories not involved in frauds = 1\n",
            "{'charge card'}\n",
            "\n",
            "P_emaildomain, Categories not involved in frauds = 27\n",
            "{'sc.rr.com', 'frontiernet.net', 'yahoo.de', 'ptd.net', 'twc.com', 'cableone.net', 'juno.com', 'q.com', 'centurylink.net', 'rocketmail.com', 'web.de', 'cfl.rr.com', 'live.fr', 'frontier.com', 'gmail', 'yahoo.co.jp', 'hotmail.fr', 'servicios-ta.com', 'embarqmail.com', 'hotmail.co.uk', 'gmx.de', 'hotmail.de', 'netzero.com', 'att.net', 'roadrunner.com', 'windstream.net', 'yahoo.co.uk'}\n",
            "\n",
            "R_emaildomain, Categories not involved in frauds = 28\n",
            "{'sc.rr.com', 'frontiernet.net', 'yahoo.de', 'ptd.net', 'twc.com', 'cableone.net', 'juno.com', 'scranton.edu', 'q.com', 'centurylink.net', 'web.de', 'cfl.rr.com', 'live.fr', 'frontier.com', 'gmail', 'yahoo.co.jp', 'hotmail.fr', 'servicios-ta.com', 'verizon.net', 'embarqmail.com', 'hotmail.co.uk', 'gmx.de', 'hotmail.de', 'netzero.com', 'att.net', 'roadrunner.com', 'windstream.net', 'yahoo.co.uk'}\n",
            "\n",
            "M4, Categories not involved in frauds = 0\n",
            "\n",
            "DeviceType, Categories not involved in frauds = 0\n",
            "\n",
            "DeviceInfo, Categories not involved in frauds = 1366\n",
            "{'D5316', 'XT1572 Build/NPHS25.200-15-8', 'CLT-L09', 'LG-K240 Build/MXB48T', 'SM-G920P', 'SAMSUNG-SM-N910A', 'Gigaset', 'verykoolS5524', 'SM-N950F Build/R16NW', 'KFAPWI Build/KTU84M', 'T08', 'SGH-M919N', 'Android 7.1.2', 'VS990 Build/MRA58K', 'XT1058', '2PZC5', 'ASUS_X00HD Build/NMF26F', 'D5106', 'EML-L29 Build/HUAWEIEML-L29', 'LG-D851', 'SM-T310 Build/KOT49H', 'SM-G928T Build/NRD90M', 'SM-G935V Build/NRD90M', 'SM-A500FU', 'SM-J500FN', 'KIW-L24', 'XT1563', 'Minion_Tab', 'SM-P605V', 'LG-D373 Build/KOT49I.V10a', 'SM-J327V Build/NRD90M', 'SM-N910T3', 'SM-J727VPP Build/NRD90M', 'iris 870 Build/MRA58K', 'KFSAWI', 'ASUS_X015D Build/NRD90M', 'LG-H870DS Build/NRD90U', 'GT-I8200N', 'BBB100-1', 'KFTHWI Build/KTU84M', 'ALE-L21 Build/HuaweiALE-L21', 'moto g(6) play Build/OPP27.61-14-4', 'SM-G900F Build/LRX21T', 'LGUS990', 'KYOCERA-C6742A Build/LMY47V', 'Robin', 'SM-G900T Build/MMB29M', 'SM-G730V', 'Nexus 6 Build/N6F27M', 'SAMSUNG SM-T530NU Build/LRX22G', 'SAMSUNG SM-J530F Build/NRD90M', 'GT-I9515', 'LGMS345', 'ASUS_Z00ED', 'SM-G930P', 'Pixel Build/OPM2.171019.029', 'SAMSUNG SM-A510M Build/NRD90M', 'LG-LG870', 'SAMSUNG-SM-J320A Build/NMF26X', 'C2104', 'SPH-L720T', 'XT1032', 'SM-J320V Build/MMB29M', 'rv:39.0', 'LG-LK460', 'SM-A730F Build/NMF26X', 'G3313', 'GT-I9500', '4034G', 'VS980 4G Build/LRX22G', 'Blade', 'SM-J120M', 'SAMSUNG-SM-G930A Build/NRD90M', 'XT1254', 'LG-H831 Build/NRD90U', 'SM-S975L', 'iris80', 'XT1097', 'ASUS_Z01BDA', 'SM-A320Y', 'AKUS', 'Android', 'SM-T587P', 'SM-N910P', 'Neffos X1 Max Build/NRD90M', 'SAMSUNG-SM-T377A', 'SM-T377P', 'XT1575 Build/NPHS25.200-23-1', 'TA-1003', 'en-us', 'LG-X165g Build/LRX21M', 'D6603 Build/23.5.A.1.291', 'Hisense F32 Build/NMF26F', 'Moto E (4) Plus Build/NMA26.42-142', 'LIMIT', 'Ilium LT520 Build/NRD90M', 'TA-1052', '5056N', 'VS996', 'Hisense F20 Build/MMB29M', 'SM-J700T1', 'Ilium LT500 Build/LMY47O', 'SAMSUNG-SM-G900A', 'LGL163BL', 'G8142', 'XT1095', 'TA-1044 Build/OPR1.170623.026', 'FP2', 'rv:54.0', 'SAMSUNG-SM-G900A Build/MMB29M', 'F5121', 'SM-T280 Build/LMY47V', 'BLN-L24 Build/HONORBLN-L24', 'KFSOWI', 'SM-T110 Build/JDQ39', 'BAH-L09 Build/HUAWEIBAH-L09', 'K90U', 'SM-T377V Build/NMF26X', 'SM-G901F', 'Android 7.0', 'GRACE', 'HUAWEI M2-801W Build/HUAWEIM2-801W', 'Pixel 2 XL Build/OPM1.171019.011', 'Venue', 'SM-G950W', 'SM-G900M Build/MMB29M', 'LDN-LX3 Build/HUAWEILDN-LX3', 'A952', 'BBA100-2', 'SM-A300M', 'LS5', 'GRANT', 'G3313 Build/43.0.A.5.79', 'SM-P355M', 'D5503', 'Bolt', 'SM-G928P Build/NRD90M', 'Moto C Plus Build/NRD90M.05.034', 'SM-J530G', 'SM-T813 Build/NRD90M', 'LG-H810', 'SAMSUNG SM-G903F Build/MMB29K', 'U', 'SENS', 'SM-G900I', 'SAMSUNG-SM-T377A Build/MMB29K', 'PMID7102DC', 'SM-T807V', 'KFJWI', '5045I', 'Pixel Build/OPR3.170623.013', 'SM-T580', 'SM-S902L', 'D5803 Build/23.5.A.1.291', 'SAMSUNG SM-J320F Build/LMY47V', 'GT-N7100', 'SAMSUNG SM-G930F/XXU2DRC1 Build/NRD90M', 'SM-P600', 'SM-T670', '1016S', 'SAMSUNG SM-G900T Build/MMB29M', 'ZTE BLADE A512 Build/MMB29M', 'SM-T807T', 'SAMSUNG-SM-J727AZ', 'E6653 Build/32.4.A.1.54', 'G3223', 'Redmi', 'SM-G960F Build/R16NW', 'SM-G530W', 'SM-G386T', 'SM-J120W', 'SM-N950W', 'SAMSUNG-SM-G930AZ', 'B3-A20', 'K88', 'Advance', 'LG-M255', 'Moto G Play Build/NPIS26.48-36-5', 'Build/OPR1.170623.032', 'VS820', 'SAMSUNG SM-G955U Build/R16NW', 'BLU ENERGY X PLUS Build/LRX21M', 'A463BG', 'SAMSUNG-SM-G925A Build/NRD90M', 'SM-G800F Build/KOT49H', 'SM-T210', 'GT-N8010', 'DASH', 'TA-1020', 'verykools5035', 'VS880PP', 'SAMSUNG SM-N900T Build/LRX21V', 'STV100-1', 'P027', 'LG-V521', 'BV7000', '9002A', 'HTC6500LVW', 'SM-A310M', 'HUAWEI Y625-U13 Build/HUAWEIY625-U13', 'SM-G350M', 'LG-H960', 'Z963VL', 'SAMSUNG SM-G900A Build/MMB29M', 'XT1008', 'SM-G935U', 'C6603', 'SM-G360T1 Build/LMY47X', 'SM-T355Y Build/NMF26X', 'SM-T230 Build/KOT49H', 'Pixel 2 Build/OPM1.171019.019', 'Tmovi Build/Vision', 'SAMSUNG SM-J250M Build/NMF26X', 'SM-G935V', 'LG-H840 Build/MMB29M', 'Ilium X210 Build/LMY47I', 'SM-T580 Build/NRD90M', 'SM-G550T2', 'SM-T550', 'LG-LS777 Build/NRD90U', 'XT1585 Build/NCK25.118-10.5', 'SAMSUNG-SGH-I497', 'HTC_One_M8s/2.12.111.1', 'XT1565', 'SM-P600 Build/LMY47X', 'SM-G530FZ', 'VerykoolS5030', 'E6553', 'SM-G390W', 'LG-D331 Build/LRX22G', 'D5316 Build/19.4.A.0.182', 'Z9 PLUS Build/NRD90M', 'Blade A460 Build/LMY47O', 'Z833', 'XT1650 Build/NCLS26.118-23-13-6-5', 'SAMSUNG SM-G900M Build/LRX21T', 'LG-H910 Build/NRD90M', 'Max', 'Ilium L910 Build/MRA58K', 'M10/Q1010', 'WAS-TL10 Build/HUAWEIWAS-TL10', 'C1904', 'PRA507', 'Shift Build/LMY47I', 'SM-A710M Build/LMY47X', 'SM-T705', 'LG-K540 Build/MMB29M', 'GT-P5110', 'SM-G925R4', 'SLAY', 'G8341', 'F5122', 'KFTT Build/IML74K', 'SM-G920W8', 'SM-J710GN', 'EGO', 'SAMSUNG-SM-G870A Build/MMB29M', 'SM-T810', 'LGLS675 Build/LMY47V', 'SM-G313ML', 'SM-G900T1', 'verykool', 'D5306 Build/19.4.A.0.182', 'XT1650 Build/NPLS26.118-20-5-3', 'GT-I9505 Build/LRX22C', 'SM-S320VL', 'QTASUN1', 'XT1094', 'SM-N900V Build/LRX21V', 'ZA990', 'SM-G920V Build/MMB29K', 'Z812', '5057M', 'F3213 Build/36.0.A.2.146', 'LG-K500 Build/MMB29M', 'F3113', 'HTC6535LVW', 'KFTBWI Build/LVY48F', 'XT1003', 'Moto G (4) Build/NPJS25.93-14-8', 'SAMSUNG SM-P580 Build/NRD90M', 'SM-A510F Build/MMB29K', 'Hisense F24 Build/NRD90M', 'ALP-L09 Build/HUAWEIALP-L09S', 'SAMSUNG SM-A310F/A310FXXU4CRB1 Build/NRD90M', 'CPH1607', 'XT1092', 'MotoG3 Build/MPI24.65-25.1', 'X900+', 'Z956 Build/MMB29M', 'F3213', 'SAMSUNG SM-G920P Build/NRD90M', '4034E', 'LG-D850', 'RS988', 'F1f Build/LMY47V', 'X3402', 'S471', 'XT1060', 'TRT-LX3', 'SAMSUNG SM-G965U1 Build/R16NW', 'TA-1038 Build/O00623', 'LGLS755', 'HTC_One', 'Fusion5_u7', 'SM-G900F Build/MMB29M', 'SAMSUNG-SM-T817A', 'XT1040', 'XT1032 Build/LPBS23.13-57-2', 'SAMSUNG SM-N910V Build/MMB29M', 'SM-G900V', 'SM-A310F Build/MMB29K', 'Pixel 2 XL Build/OPM2.171019.029.B1', 'SM-G928V Build/MMB29K', 'Ilium LT510 Build/MRA58K', 'SAMSUNG SM-N950U1 Build/NMF26X', 'Lenovo TB-7703X Build/S100', 'Microsoft', 'Techpad', 'LG-P714', 'G620S-L03', 'SM-N900T', 'SCH-I535', 'LG-M710 Build/NRD90U', 'HT0701A16', 'Pixel XL Build/OPM1.171019.016', 'VS996 Build/OPR1.170623.026', 'SAMSUNG SM-J327AZ Build/NRD90M', 'TA-1025 Build/OPR1.170623.026', 'SAMSUNG-SM-G920AZ', 'BLA-L09 Build/HUAWEIBLA-L09', 'SM-A520F Build/MMB29K', 'LG-H542 Build/LRX22G', 'LG-M153 Build/MXB48T', 'Studio', '5044A', 'Infinix', 'SM-G930F Build/MMB29K', 'ZTE Blade L5 Build/LMY47I', 'SM-S327VL', 'LG-K212', 'Coolpad', 'KFMEWI', 'SAMSUNG-SM-N920A', 'SAMSUNG SM-A320FL Build/NRD90M', 'SM-G920T Build/NRD90M', 'SAMSUNG-SM-J320AZ', 'Nexus 6P Build/OPR5.170623.014', 'Hisense F102 Build/NRD90M', 'SM-G930T1', 'SAMSUNG-SGH-I337', 'LGMP450 Build/NRD90U', 'Aquaris', 'BLU STUDIO C 5+5 Build/LRX21M', 'SM-G955U1 Build/NRD90M', 'SAMSUNG SM-G900F Build/MMB29M', 'F5321 Build/34.2.A.2.47', 'Lenovo YT3-X50F Build/MMB29M', 'A0001', 'Android 5.1.1', 'HTC Desire 510 Build/KOT49H', 'SAMSUNG-SM-G930A', 'Moto C Build/NRD90M.057', 'ALCATEL ONE TOUCH 7042A Build/JDQ39', 'SC-02H', 'SAMSUNG-SM-G891A Build/NRD90M', 'SM-G928V Build/NRD90M', 'B1-750', 'Blade V580 Build/LMY47D', 'QMV7A', 'SAMSUNG SM-A320Y Build/NRD90M', 'SM-T825 Build/NRD90M', 'CPH1723', 'verykoolS5005', 'SAMSUNG SM-J500M Build/MMB29M', 'SAMSUNG SM-G925I Build/NRD90M', 'Alcatel_4060A', 'PULP 4G Build/LMY47V', 'LG-H872 Build/NRD90U', 'SM-G930VL Build/NRD90M', 'SAMSUNG SM-G892A Build/NRD90M', 'SM-N910H', 'S57 Build/KTU84P', '5017A', 'Moto G (5) Plus Build/NPNS25.137-93-8', 'DUK-AL20', 'KFGIWI Build/LVY48F', 'D6708', 'ASTRO', 'SAMSUNG-SM-N900A Build/LRX21V', 'LG-D680', 'Redmi Note 5A Build/N2G47H', 'ME173X', 'SM-N950U1 Build/NMF26X', 'ICON', 'SM-G928G Build/MMB29K', 'KYY22', 'SM-N910T Build/MMB29M', 'SM-S120VL', 'SAMSUNG SM-G920F Build/LRX22G', 'A96 Build/LMY47I', 'SM-J530F Build/NRD90M', 'LG-M250 Build/NRD90U', 'BAC-L03 Build/HUAWEIBAC-L03', 'LenovoA3300-GV Build/JDQ39', 'LG-TP450 Build/NRD90U', 'LG-V522', 'A97', 'SAMSUNG SM-T550 Build/NMF26X', 'SM-G925P Build/NRD90M', 'BLADE V7 Build/MRA58K', 'LG-K428 Build/NRD90U', 'SAMSUNG-SM-J727A Build/NRD90M', 'SM-J120FN Build/LMY47X', 'Redmi 4A Build/MMB29M', 'ILIUM', 'SM-G920F Build/NRD90M', 'WAS-LX2J', 'SAMSUNG SM-G928G Build/NRD90M', 'verykoolS5530 Build/LMY47I', 'WAS-L03T Build/HUAWEIWAS-L03T', 'Lenovo YT3-850F Build/MMB29M', 'SM-J730F', 'moto x4 Build/OPW27.57-40', 'P00A', 'ALUMINI', 'SM-J727V Build/NRD90M', 'SM-G925W8', 'QTAQZ3 Build/KOT49H', 'ASUS_X00DD', 'SAMSUNG SM-G935T Build/NRD90M', 'XT1580', 'SM-G920V Build/NRD90M', 'SAMSUNG SM-A310M Build/LMY47X', 'SM-J710F Build/NRD90M', 'Pixel 2 Build/OPM1.171019.011', 'A9', 'BNTV400', 'SM-T700 Build/MMB29K', 'E8QP', 'SAMSUNG SM-G935P Build/NRD90M', 'LG-H340AR', 'rv:46.0', 'SAMSUNG-SM-J327AZ', 'Build/KOT49H', 'AX820 Build/MRA58K', 'LG-H900/H90022b', '6037B', 'LGL41C', 'Android 6.0', 'XT1650 Build/NCLS26.118-23-13-3', 'LG-K550', 'SM-A300H', 'Moto G Play Build/NPIS26.48-36-2', 'Lenovo TB-X103F Build/LenovoTB-X103F', 'verykoolS5525', 'Ilium L1000 Build/LRX22G', 'VS501 Build/NRD90U', 'SM-G903W', 'SM-T800 Build/MMB29K', 'ASUS_X018D', 'MotoG3 Build/MPIS24.65-25.1-19', 'Moto E (4) Build/NMA26.42-11-3', 'LG-H735 Build/LMY47V', 'SM-J700P', 'GT-S7582', 'SAMSUNG-SM-G900A Build/KOT49H', 'LG-H815 Build/MRA58K', 'LG-H815', 'ASUS_Z00AD Build/LRX21V', 'SM-G531F', 'SM-T820 Build/NRD90M', 'XT1031', 'HTC_Desire_820', 'SAMSUNG-SM-G920A Build/MMB29K', 'Pixel', 'G3223 Build/42.0.A.4.101', 'E2306 Build/26.1.A.3.111', 'SM-T800', 'SM-G928V', 'SAMSUNG SM-J530GM Build/NRD90M', 'Moto Z2 Play Build/NPSS26.118-19-4', 'SM-T827R4', 'U FEEL LITE Build/MRA58K', 'A577VL', '2PYB2', 'T1', 'TA-1038', 'Hisense T963 Build/MRA58K', 'SM-G850M Build/LRX22G', 'P5046A', 'GT-S7275B', 'M4 SS4453 Build/MMB29M', 'F80 PIABELLA Build/MRA58K', 'WAS-LX1A Build/HUAWEIWAS-LX1A', 'LG-H810/H81021z', \"F80'S+\", 'XT1635-01', 'ONE A2003 Build/MMB29M', 'SM-G930V Build/MMB29M', '916', 'iris50', 'SM-G360V', 'BBB100-2', 'E5823', 'moto x4 Build/NPW26.83-42', 'E5506 Build/29.2.A.0.166', 'SM-P900', 'S70V', 'Lenovo TAB 2 A7-30GC Build/KOT49H', 'XT1063', 'G8141 Build/47.1.A.5.51', 'MI MAX 2 Build/NMF26F', 'Pixel 2 Build/OPM2.171019.016', 'LG-V495/V49520l', 'NX521J', 'SOV33 Build/35.0.D.2.25', 'SM-G388F', 'Mobiistar_LAI_Yuna_X', 'SAMSUNG-SM-G890A', 'IdeaTab', 'AX705', 'Gravity Build/NRD90M', 'XT1710-02', 'GT-I8190N', 'SM-G950U Build/R16NW', 'SM-S920L', 'HTC 10 Build/NRD90M', 'TA-1044', 'Edison', 'iris702', 'P01M', 'ORION', 'SM-S820L', 'IdeaTabA1000-F', 'SAMSUNG SM-G955F Build/R16NW', 'Y550-L02', 'LG-LS993 Build/NRD90U', 'LGLS751', 'Vivo', 'NX16A8116KP', 'SM-S907VL', 'SM-G920F Build/MMB29K', 'SM-N920R4', 'WAS-LX1 Build/HUAWEIWAS-LX1', 'LG-V495', 'SM-J710MN Build/MMB29K', 'Ilium X710 Build/MRA58K', 'SM-G360F', 'SAMSUNG SM-T800 Build/MMB29K', 'Blade A465 Build/LMY47D', 'SM-T330NU Build/LMY47X', 'verykools5034', 'Pixel 2 XL Build/OPM1.171019.013', 'LG-M322', 'verykools4009', 'ZTE BLADE A321 Build/NMF26F', 'SM-J7108', 'LG-M200 Build/NRD90U', 'SM-G950U1 Build/R16NW', 'HUAWEI Build/MMB28B', 'ALCATEL ONE TOUCH 5036A Build/JDQ39', 'LG-D400', 'SAMSUNG SM-N920P Build/NRD90M', 'Pixel Build/OPM1.171019.011', 'AX821 Build/MRA58K', 'Grand', 'SM-N920P', 'SAMSUNG SM-J727T1 Build/NRD90M', 'PSPC550 Build/LMY47D', 'S60 Build/MMB29M', 'TREKKER-X3 Build/MMB29M', 'GT-N8000', 'ONE TOUCH 4016A Build/JDQ39', 'Redmi 5 Plus Build/N2G47H', 'F3111 Build/33.3.A.1.115', 'TA-1028 Build/O00623', 'verykoolS5019', 'SM-G530T1', 'LG-LS997 Build/NRD90M', 'LGLS775 Build/MMB29M', 'SM-G920I Build/NRD90M', 'E5306', 'XT1096', 'SM-J320W8', 'ASUS_Z017DA', 'K88 Build/MMB29M', 'Stellar', 'LG-K350', 'LGMS323', 'LG-H810/H81022f', 'ZA409', 'LGL58VL', 'Intel', 'F5321 Build/34.3.A.0.238', 'STV100-2 Build/MMB29M', 'LG-K373', 'SM-T377P Build/NMF26X', 'G3223 Build/42.0.A.4.167', 'F3311', 'Alumini3Plus', 'Android 6.0.1', 'RCT6513W87 Build/MRA58K', 'D2406', 'LG-D802', 'VK815', 'XT1055', 'SM-N915V', 'SAMSUNG SM-G950U1 Build/R16NW', 'ALCATEL ONE TOUCH 7047A Build/JDQ39', 'ONEPLUS', 'NXA8QC116', 'LGL164VL Build/NRD90U', 'COVET Build/NRD90M', 'SAMSUNG SM-J710MN Build/MMB29K', 'SAMSUNG SM-G935W8 Build/NRD90M', 'E6683', 'SM-N950U1 Build/R16NW', 'MHA-L29 Build/HUAWEIMHA-L29', 'Moto Z (2', 'F8331', 'LG-D320', 'BOIE9', 'LGLS990', 'SM-G7105', 'LG-LS995', 'SM-J700F', 'LG-H343', 'QTAQZ3 Build/LMY47V', 'LG-P708g', 'SAMSUNG SM-G965F Build/R16NW', 'LG-D213', 'LG-H820', 'AX1060', 'ASUS', 'ASUS_Z01KD', 'SM-J510MN Build/NMF26X', 'Z959 Build/LMY47V', 'D5306', 'SAMSUNG-SGH-I337 Build/KOT49H', 'MotoG3-TE', 'SM-P607T', 'SLA-L23', 'SAMSUNG-SM-G925A', 'vivo', 'A0001 Build/MHC19Q', 'SM-G930U Build/NRD90M', 'SM-J710GN Build/MMB29K', 'ZUR70016', 'G527-U081', 'A3-A20', 'LG-H830', 'XT1080 Build/SU6-7.7', 'M431', 'V.40R', '5010S Build/MRA58K', '5080A Build/MRA58K', 'BLU LIFE XL Build/L050U', 'SAMSUNG-SM-G900A Build/LMY47X', 'SM-G920T1', 'Hisense', 'BLADE V8 Build/NRD90M', 'GT-P5210 Build/JDQ39', 'MYA-L23', 'SM-G530T', 'LG-D693n Build/LRX22G', 'SM-G925V Build/NRD90M', 'A37f', 'rv:42.0', 'Z982 Build/NMF26V', 'MotoG3 Build/MPIS24.107-55-2-17', 'SM-N9500', 'SAMSUNG SM-J510MN Build/MMB29M', 'SM-T337V', 'LG-M150', '0PAJ5', 'SM-J327T Build/NRD90M', 'SM-N920C Build/NRD90M', 'Aquaris X5 Plus Build/NMF26F', 'Pixel XL Build/OPM1.171019.011', 'SAMSUNG SM-J500M Build/LMY48B', 'LGUS991', 'Z955A', 'HT0703K16', 'SM-T530 Build/LRX22G', 'SM-N910T Build/LMY47X', 'HUAWEI GRA-L09 Build/HUAWEIGRA-L09', 'MotoG3', 'LG-H811 Build/MRA58K', 'LG-H345', 'GT-S7582L', 'GT-I9060L Build/JDQ39', 'Kylin', '6055B', 'm3', 'SM-J500G', 'SM-T537V', 'AX920', 'SM-J727T Build/NRD90M', 'SM-T560NU Build/MMB29M', 'SCH-I545 Build/LRX22C', 'B1-790', '9022X', 'SM-G965U Build/R16NW', 'RS988 Build/MMB29M', 'SM-G610F', 'FEVER', 'SM-A320FL Build/NRD90M', 'LGL57BL', 'DOMOS', 'Alcatel_5098O Build/MMB29M', 'TA-1028 Build/NRD90M', 'K92', 'LG-TP260 Build/NRD90U', 'HTC One mini Build/KOT49H', 'LG-M430 Build/NRD90U', 'MAGNO', 'Moto Z2 Play Build/NPSS26.118-19-6', 'STV100-3', 'TA-1027 Build/OPR1.170623.026', 'BLADE A602 Build/MRA58K', 'BV8000Pro', 'Aquaris X Build/NMF26F', 'SM-C900F', 'SM-G800F Build/MMB29K', 'SAMSUNG SM-J327P Build/MMB29M', 'Lenovo TB2-X30F Build/LenovoTB2-X30F', 'Z831', 'SM-T230NU Build/KOT49H', 'LG-X210 Build/LMY47I', 'PLE-701L', 'rv:53.0', 'SAMSUNG SM-G950U Build/R16NW', 'Touch', '5054N', 'SAMSUNG-SM-J320A Build/MMB29K', 'C6906', 'Moto Z2 Play Build/NPS26.118-19', 'IO', 'SAMSUNG SM-G9600 Build/R16NW', 'XT1068', 'Redmi Note 4X Build/MRA58K', 'Ilium', 'LG-H540', 'rv:38.0', 'K10', '831C', 'SM-J100MU', 'HUAWEI VNS-L21 Build/HUAWEIVNS-L21', 'SM-N920T Build/NRD90M', 'M4 SS4458 Build/MMB29M', 'S6000', 'Pixel 2 Build/OPM1.171019.021', 'Energy X 2 Build/E050L', 'Moto G (5S', 'NXA116QC164', 'SM-T555', 'SM-G390F', 'SM-N910C Build/MMB29K', 'LG-E975', 'E5606', 'XT1064', 'Alcatel_5056O', 'SMART', 'DLI-L22 Build/HONORDLI-L22', 'ANE-LX3 Build/HUAWEIANE-LX3', 'XT1032 Build/KXB21.14-L1.40', 'HTC U11 Build/NMF26X', 'SM-J320V Build/NMF26X', 'AX921 Build/MRA58K', 'XT1072', 'Redmi 4A Build/N2G47H', 'E5306 Build/27.3.A.0.165', 'Nexus 5X Build/OPR4.170623.006', 'SGP621 Build/23.5.A.1.291', 'BND-L34', 'SM-J727U Build/NRD90M', 'TA-1044 Build/NMF26F', 'LG-H221', 'SAMSUNG-SM-G890A Build/MMB29K', 'SM-G900P Build/LRX21T', '5051A Build/MMB29M', 'Lenovo K33b36 Build/MMB29M', 'F3313 Build/37.0.A.2.248', 'SM-G920I', 'R1', 'SM-G720AX', 'SM-G930V Build/NRD90M', 'LG-H990 Build/NRD90M', 'SM-E500M', '8080 Build/LRX21M', 'GT-N5110', 'SM-T237P', 'ALTER', 'SAMSUNG SM-G920F Build/NRD90M', 'LEX829', 'SAMSUNG SM-G935F Build/NRD90M', 'H550', 'P4526A Build/NRD90M', 'XT1254 Build/MCG24.251-5-5', 'Aquaris_A4.5', 'Moto G (5) Build/NPPS25.137-93-4', 'HTC One_M8 Build/MRA58K', '2PQ93', 'BBA100-1', 'Joy', 'SM-T113 Build/KTU84P', 'SAMSUNG SM-T813 Build/NRD90M', 'Pixel Build/OPM4.171019.016.B1', 'TA-1025', 'LG-E450f', 'P5006A', 'Lenovo A6020l37 Build/LMY47V', 'SAMSUNG SM-J700M Build/LMY48B', 'RNE-L22 Build/HUAWEIRNE-L22', 'SM-G920V', 'SM-N920T', 'LG-D681', 'ZTE BLADE A6 Build/NMF26F', 'LG-K430 Build/MRA58K', 'GT-P5210 Build/KOT49H', 'LG-SP200', 'SM-G892A', 'SM-A520W', 'SM-G930T Build/NRD90M', 'D6503', 'XT1021 Build/KXC21.5-40', 'SM-G900V Build/MMB29M', 'SM-N920G Build/NRD90M', 'LG-V500', 'rv:55.0', 'ZTE A2017U Build/NRD90M', 'O1', 'VS835', 'F5321', 'STV100-4 Build/LMY47V', 'Win64', 'S.N.O.W.4', 'SM-G900R4', 'A3_mini', 'Moto C Build/NRD90M.050', 'TA-1027 Build/N2G47H', 'Infinit', 'SM-T810 Build/NRD90M', 'XT1080', 'FRD-L04 Build/HUAWEIFRD-L04', 'SGP521', 'LGLS991', 'ONEPLUS A5010 Build/OPM1.171019.011', 'Moto G (4) Build/NPJ25.93-14', 'LG-H871', 'Aquaris U Plus Build/NMF26F', 'SLA-L22', 'ONE TOUCH 4033A Build/JDQ39', 'Swift', '2PS64 Build/NRD90M', 'Moto G (5) Plus Build/NPNS25.137-92-10', 'XT1609 Build/MPIS24.241-2.35-1-17', 'F3113 Build/33.2.A.3.81', 'HTC Desire 650 Build/MMB29M', 'HTCD200LVW', 'SM-T818V', 'HIGHWAY', 'Tab2A7-10F', 'RCT6S03W12', 'LG-V520', 'rv:35.0', 'SM-T380', 'XT1710-02 Build/NDSS26.118-23-15', 'M4', 'SAMSUNG SM-J500FN Build/MMB29M', 'SAMSUNG-SM-G920A Build/NRD90M', 'Grand2c', 'BLA-L29 Build/HUAWEIBLA-L29', 'LOGIC', 'Hisense L675 PRO Build/NRD90M', 'Linux x86_64', '7055A Build/KVT49L', 'LG-E980h', 'B1-810', 'ALCATEL ONE TOUCH 7040A Build/JDQ39', 'XT1063 Build/MPB24.65-34-3', 'SM-G903M', 'Z971', 'LG-D373', '9008A Build/NRD90M', 'ONEPLUS A5000 Build/NMF26X', 'LG-D625', 'LGLS665 Build/LMY47V', 'SLA-L02', 'GT-P5113', 'SM-J330F', 'SM-A310M Build/NRD90M', 'SM-A520F Build/R16NW', 'V502015', 'Moto G (5) Build/NPPS25.137-93-8', 'SAMSUNG SM-A510F Build/NRD90M', 'SM-T330', 'XT1580 Build/NPKS25.200-17-8', 'SAMSUNG SM-A720F Build/NRD90M', 'SM-J320VPP', 'Ilium L610 Build/MRA58K', 'LG-V700', 'LG-D959', 'YOLO', 'LG-M210 Build/NRD90U', 'SM-T585', 'SM-G360M', 'KFSUWI Build/LVY48F', 'NEM-L51 Build/HONORNEM-L51', 'HTCD100LVWPP', 'RCT6223W87', 'LGMS631', 'FRD-L14 Build/HUAWEIFRD-L14', 'SM-A500W', 'N9136', 'Linux i686', 'Z836BL', 'NetHelper70', 'Moto C Build/NRD90M.046', 'RCT6773W22B', 'SAMSUNG SM-G530T Build/LMY47X', 'SM-S550TL', 'SM-G900FD', 'HUAWEI LYO-L21 Build/HUAWEILYO-L21', 'F3313', 'SM-G935W8', 'SM-T560NU Build/NMF26X', 'ONE', 'VT0701A08', 'SAMSUNG SM-A310F Build/NRD90M', 'SM-G930R7', 'SM-G900L', 'SM-G900P', 'P5026A', 'BLN-L21 Build/HONORBLN-L21', 'M4 SS4452 Build/LMY47V', 'LG-D722', 'A1601 Build/LMY47I', 'SM-G920R4', 'G3123 Build/40.0.A.6.189', 'HUAWEI LUA-U23 Build/HUAWEILUA-U23', 'Z839', 'GT-S7390', 'Azumi_KINZO_A5_QL', 'P5006A Build/NRD90M', 'MYA-L11', 'SM-G386W', 'LGUS215 Build/NRD90U', 'SM-T377T', 'SAMSUNG SM-T587P Build/NRD90M', 'SAMSUNG SM-A730F Build/NMF26X', 'Moto G (5) Plus Build/NPN25.137-83', 'Le', 'Linux', 'SPH-L720', 'LGL33L/V100', 'LG-H850 Build/MMB29M', 'SM-N910V Build/MMB29M', 'Android 4.4.2', 'HUAWEI Y560-L03 Build/HUAWEIY560-L03', 'YOGA', 'SAMSUNG-SM-G900A Build/LRX21T', 'HUAWEI CAN-L01 Build/HUAWEICAN-L01', 'EVA-L09 Build/HUAWEIEVA-L09', '5054S Build/LMY47V', 'VK700 Build/LRX22G', 'RCT6303W87M7 Build/MRA58K', 'BV6000', 'SM-G928P', 'SM-G955W', 'VTR-L29', 'SM-G530P', 'LGLS770', 'SAMSUNG-SM-G935A Build/NRD90M', 'Moto G Play Build/NJH47F', 'Pixel 2 XL Build/OPM1.171019.021', 'orbis', 'Moto C Build/NRD90M.070', '4003A', 'X78', 'SAMSUNG SM-G930P Build/NRD90M', 'rv:44.0', 'SM-J710MN Build/NRD90M', 'Ilium L950 Build/KTU84P', 'SAMSUNG SM-J327A Build/NRD90M', 'SM-J700H Build/MMB29K', 'A1-850', 'ASUS_A001', 'LGL62VL', 'M4 SS4457-R Build/NRD90M', '6039A Build/LRX22G', 'rv:41.0', 'E6603', 'LGMS550 Build/MXB48T', 'HTC One A9 Build/NRD90M', 'XT1580 Build/NPKS25.200-12-9', 'SM-A510F Build/NRD90M', 'SAMSUNG SM-J710MN Build/NRD90M', 'TOMMY2', 'STK_Sync_5e', 'SM-G920T', 'SM-T520', 'BG2-W09', 'LG-H931', 'GT-N5110 Build/JDQ39', 'G3313 Build/43.0.A.7.25', 'VFD', 'XT1023', 'SM-G930R4 Build/NRD90M', 'ATT-IE11', 'MALC', 'SCH-I435', 'Pixel XL Build/OPM4.171019.016.B1', 'LG-H901', 'BLU', 'XT1030 Build/SU6-7.7', 'LGMS631 Build/MRA58K', '5042A', '5095I Build/MRA58K', '4009F', 'SAMSUNG-SM-J120A', 'LG-H650 Build/LMY47V', 'SGH-I337M', 'LG-F400K', 'LG-V930', 'E6810 Build/5.320VZ.03.r', 'ASUS_P00J', '9203A Build/MRA58K', 'LG-H520', 'SAMSUNG SM-J320M Build/LMY47V', 'LT30p', 'M4 SS4451 Build/LMY47D', 'SAMSUNG SM-G892A Build/R16NW', 'Moto C Build/NRD90M.054', '0PJA2', 'SAMSUNG-SM-J320AZ Build/MMB29K', 'PH-1', 'SM-T377V', 'LAVA_A3', 'B3-A40', 'SM-J320FN Build/LMY47V', 'LG-H631', 'Archos', 'SM-J510F', 'SAMSUNG SM-G800F Build/MMB29K', 'iris 820 Build/MRA58K', 'LG-V496', 'IdeaTabA2109A', 'SAMSUNG SM-N910A Build/MMB29M', 'Z2', 'SM-J320H', 'AM508', 'LGUS992', 'SAMSUNG SM-G925P Build/NRD90M', 'XT1635-02 Build/OPN27.76-12-22', 'E5803 Build/32.4.A.1.54', 'ASUS_X008DC Build/NRD90M', 'HUAWEI CAN-L11 Build/HUAWEICAN-L11', 'ASUS_X008D Build/NRD90M', 'UL40', 'SM-G900H Build/MMB29K', 'SAMSUNG SM-G850F/G850FXXS2CQD9 Build/LRX22G', 'SM-J700T Build/NMF26X', 'LGMS395', 'RCT6K03W13', 'N817', 'SM-J330FN Build/NRD90M', 'SAMSUNG SM-G930A Build/NRD90M', 'SM-G730W8 Build/KOT49H', 'SAMSUNG SM-G920I Build/NRD90M', 'E6853', 'QTAIR7 Build/LMY47D', 'SM-J200M Build/LMY47X', 'LGMS428', 'Aquaris V Build/N2G47H', 'D2306', 'ZTE BLADE V8 MINI Build/NRD90M', 'XT1575', 'SM-J200H', 'ONE A2005 Build/MMB29M', 'Nexus', 'SAMSUNG-SM-G935A', '4027A Build/KOT49H', 'SM-P550', 'SM-N920V', 'moto x4 Build/OPWS27.57-40-14', 'XT1680', 'PLUS', 'HELIO', 'R2', 'LG-M400 Build/NRD90U', 'SM-T817V Build/NRD90M', '4047A Build/NRD90M', 'SAMSUNG-SGH-I537', 'Moto E (4) Build/NDQS26.69-64-2', 'Nexus 5 Build/M4B30Z', 'F8131', 'ASUS_X00DDA', 'verykools5004', 'SAMSUNG SM-G950F Build/NRD90M', 'GT-I9195I', 'LG-M154', 'SM-T530NU Build/LRX22G', 'XT1053 Build/LPAS23.12-21.7-1', 'SGP611', 'F5121 Build/34.3.A.0.228', 'LG-H700 Build/NRD90U', 'RNE-L21 Build/HUAWEIRNE-L21', 'Tornado', 'G25524K', 'VK810', 'EVA-L19 Build/HUAWEIEVA-L19', 'F5121 Build/34.4.A.2.19', 'XT1710-02 Build/NDSS26.118-23-19-6', 'Alcatel_5054O', 'SM-A500FU Build/MMB29M', 'Moto E (4) Build/NMA26.42-19', 'SAMSUNG SM-G930R4 Build/NRD90M', 'rv:33.0', 'TA-1028 Build/NMF26O', 'SAMSUNG-SM-N920A Build/NRD90M', 'VS880', 'SGH-I317M', 'F3111 Build/33.3.A.1.97', 'SM-J320P Build/LMY47X', 'SKY_5.0LM', 'GT-I9506', 'TA-1027', 'LG-M257', 'SAMSUNG SM-N920V Build/NRD90M', 'E5823 Build/32.4.A.1.54', 'SAMSUNG-SM-G925A Build/MMB29K', 'HTC U11 Build/OPR6.170623.013', 'SM-G925I', 'SM-A520F Build/NRD90M', 'AOC_U706G', 'G3123 Build/40.0.A.6.135', '7_Plus', 'SM-J500FN Build/MMB29M', 'VS988 Build/NRD90U', 'SM-G965F Build/R16NW', 'TREKKER-M1', 'SAMSUNG-SM-T677A', 'SM-J327VPP Build/NRD90M', 'Pixel Build/OPM1.171019.012', 'SAMSUNG-SM-G890A Build/NRD90M', 'XT1008 Build/LPBS23.13-56-2', 'MTT', 'E2006', 'Alcatel', 'Moto G (5) Plus Build/NPN25.137-15', 'SM-G930P Build/NRD90M', 'SM-G900P Build/MMB29M', 'SM-G9250', 'LG-H918 Build/NRD90M', 'Ilium L620 Build/NRD90M', 'SP7731G', 'SM-G355M Build/KOT49H', 'P008 Build/NRD90M', '47418', 'SM-A500H', 'LG-V410/V41020c', 'SM-G928G', 'LG-H812', 'SM-G570F', 'HUAWEI VNS-L31 Build/HUAWEIVNS-L31', 'SAMSUNG SM-A710M Build/NRD90M', 'FTJ152D', 'F8332', 'LG-K530 Build/NRD90U', 'Helix', 'HTC6545LVW', 'Ilium X220 Build/MRA58K', 'VS500', 'VTR-AL00 Build/HUAWEIVTR-AL00', 'SGP511', 'LG-K428 Build/MMB29M', 'Lenovo K33b36 Build/NRD90N', 'SM-G960U Build/R16NW', 'HP', 'Blade V6 Max Build/MRA58K', 'H3321', 'XT1058 Build/LPAS23.12-21.7-1', 'SH-04F', 'rv:37.0', 'HTC6525LVW', 'XT1063 Build/MPB24.65-34', 'LG-D693n', 'ZTE', 'MotoE2 Build/LPCS23.13-56-5', 'WOW64', 'MotoG3 Build/MPI24.65-25', 'LGL83BL', 'SGH-M919V', 'SM-E700M', 'P00C', 'R8106', 'moto', 'rv:50.0', 'SM-J250M Build/NMF26X', 'SAMSUNG SM-J111M Build/LMY47V', 'SAMSUNG SM-A300H Build/LRX22G', 'GT-I9300', 'E5803', 'Origins', 'AX1070', 'G630-U251', 'Nexus 6P Build/OPR5.170623.011', 'Northwell', 'SAMSUNG-SM-J327A Build/NRD90M', 'SM-G925I Build/LMY47X', 'GT-S7580L Build/JDQ39', 'LG-H820 Build/NRD90U', 'SM-J700T1 Build/NMF26X', 'Nexus 5X Build/OPM3.171019.013', 'SAMSUNG SM-G920T Build/NRD90M', 'ATT', 'C6903', 'LG-H830 Build/NRD90U', 'Lenovo PB1-750M Build/S100', 'LG-K550 Build/NRD90U', 'Ilium X520 Build/NRD90M', 'SGH-M919 Build/KTU84P', 'GT-S5310L', 'SM-G530M', 'LG-H932', 'TA-1025 Build/NMF26F', 'STUDIO_G_HD', 'Mi A1 Build/N2G47H', 'D2306 Build/18.6.A.0.182', 'E5506', 'SAMSUNG SM-N920A Build/NRD90M', 'SM-J530GM Build/NRD90M', 'SAMSUNG SM-N950U Build/R16NW', 'ME301T', '8050G Build/LMY47I', 'DT0704K08', 'XT1032 Build/KXB20.9-1.10-1.24-1.1', 'Redmi 3S Build/MMB29M', 'Pixel XL Build/OPM1.171019.021', 'SAMSUNG SM-N920T Build/NRD90M', 'SAMSUNG SM-N950U1 Build/R16NW', 'SM-T827V Build/NRD90M', 'XT1225', 'HTC One A9s Build/MRA58K', 'SM-G361F', 'ZUUM_ZEN_I Build/LRX21M', 'Hisense F8 MINI Build/NRD90M', 'VS986 Build/MRA58K', 'SM-G935T', 'SM-T320 Build/KOT49H', 'SM-G930T', 'PRA-LX1 Build/HUAWEIPRA-LX1', 'R831L', 'ASUS_Z00UD', 'ASUS_Z017D', 'KFASWI Build/LVY48F', 'E6833', 'SM-A320FL Build/MMB29K', 'SGH-I747M', 'SM-J510FN Build/NMF26X', 'SM-G900W8', 'ZA509', 'SM-A300FU Build/MMB29M', 'SAMSUNG SM-G890A Build/NRD90M', 'GT-P3100', 'CAM-L23', 'SM-T710 Build/NRD90M', 'PLK-L01 Build/HONORPLK-L01', 'E501', 'xs-Z47b7VqTMxs', 'HTCD160LVWPP', 'E6790TM', 'E2303', 'F3113 Build/33.2.A.4.70', 'Z799VL', 'SM-P580 Build/NRD90M', 'TA-1032', 'Star', 'SAMSUNG SM-G900I Build/MMB29M', 'H1611', 'SM-N910F Build/MMB29M', 'Dash', 'LG-H443/H44312g', 'SM-G318ML', 'NYX_A1', 'CPH1701', 'SM-G900V Build/LRX21T', 'SAMSUNG SM-G950U1 Build/NRD90M', 'LG-K420', 'Wileyfox', 'SAMSUNG-SM-T807A', 'LGLS992', 'SM-N9005 Build/LRX21V', 'SAMSUNG-SM-T537A', 'X10', '7048A Build/LRX22G', 'ASUS_X00ID', 'Z970', 'VS985', 'VS425', 'BND-L21 Build/HONORBND-L21', 'SAMSUNG SM-J700T1 Build/NMF26X', 'C6906 Build/14.6.A.1.236', 'SAMSUNG SM-J320FN Build/LMY47V', 'LGL84VL Build/NRD90U', 'hp2015', 'LGL52VL Build/LMY47V', 'XT1528', 'LGMS330 Build/LMY47V', 'TA-1004', 'FIG-LX3 Build/HUAWEIFIG-LX3', 'HTC_D10i', 'SM-G950U1 Build/NRD90M', 'SM-T377W', 'SM-T350 Build/MMB29M', 'SAMSUNG-SM-G870A', 'SM-T817T', 'LG-H933', 'HTC Desire 526G Build/KOT49H', 'ASUS_Z01BDC', 'SM-J510FN', 'SM-S903VL', 'SM-G903F Build/MMB29K', 'STELLAR', 'SM-J727P', 'gxq6580_weg_l Build/LMY47I', 'SAMSUNG-SM-G928A Build/NRD90M', 'SAMSUNG SM-G920A Build/NRD90M', 'MAMI', 'SM-S906L', 'A50C+', 'XT1563 Build/MPD24.65-25', 'PLAYTAB', 'SM-A800I', 'SM-G955U1 Build/R16NW', 'LG-LS998', 'D6603', 'LG-D725', 'LG-H850', 'SM-P350 Build/MMB29M', 'LG-H525n Build/MRA58K', 'SM-T350 Build/NMF26X', 'Moto G (5) Build/NPP25.137-33', 'E6810', 'LG-V410', 'E6633', 'STF-L09 Build/HUAWEISTF-L09', 'SM-G360V Build/LMY48B', 'VS987 Build/NRD90U', 'SM-G925F Build/NRD90M', 'QwestIE8', 'HTC', 'HTC_One_M8/4.28.502.2', 'SGH-I337M Build/LRX22C', 'Pixel 2 XL Build/OPM2.171019.029', 'VKY-L09 Build/HUAWEIVKY-L09', 'LG-K450 Build/MXB48T', 'SM-N900P Build/LRX21V', 'PE-TL10', 'A621R', 'Turbo C5 Build/LMY47I', 'AERIAL Build/NRD90M', 'BBB100-3', 'SM-J500H'}\n",
            "\n",
            "id_12, Categories not involved in frauds = 0\n",
            "\n",
            "id_15, Categories not involved in frauds = 0\n",
            "\n",
            "id_16, Categories not involved in frauds = 0\n",
            "\n",
            "id_28, Categories not involved in frauds = 0\n",
            "\n",
            "id_29, Categories not involved in frauds = 0\n",
            "\n",
            "id_30, Categories not involved in frauds = 16\n",
            "{'Mac OS X 10_12', 'Mac OS X 10_12_2', 'Mac OS X 10_11_3', 'func', 'Mac OS X 10_6_8', 'Mac OS X 10_7_5', 'Mac OS X 10_8_5', 'Android 5.0.2', 'Mac OS X 10_13_5', 'iOS 11.4.1', 'Android 5.0', 'Mac OS X 10.6', 'iOS 10.1.1', 'Windows', 'Mac OS X 10_12_4', 'Mac OS X 10.9'}\n",
            "\n",
            "id_31, Categories not involved in frauds = 31\n",
            "{'maxthon', 'chrome 69.0', 'seamonkey', 'palemoon', 'google search application 49.0', 'aol', 'Samsung/SCH', 'android', 'chrome 64.0 for ios', 'chrome 53.0 for android', 'firefox mobile 61.0', 'LG/K-200', 'Nokia/Lumia', 'google search application 48.0', 'Inco/Minion', 'Microsoft/Windows', 'silk', 'iron', 'safari', 'chrome 67.0 for android', 'M4Tel/M4', 'Cherry', 'chromium', 'waterfox', 'line', 'cyberfox', 'samsung browser 3.3', 'chrome 57.0', 'puffin', 'facebook', 'BLU/Dash'}\n",
            "\n",
            "id_33, Categories not involved in frauds = 201\n",
            "{'2736x1823', '3200x2000', '2160x1350', '2159x1440', '1760x990', '4499x2999', '1280x712', '1496x844', '1728x972', '2736x1824', '1888x941', '1684x947', '2880x1440', '1440x960', '1920x1079', '1920x1081', '1600x1024', '2735x1825', '1239x697', '3001x2000', '3441x1440', '1024x640', '1439x899', '2049x1536', '2049x1152', '1502x845', '1366x1024', '1920x1280', '1280x960', '1200x720', '2560x1080', '1408x792', '1344x756', '1512x945', '2159x1439', '1912x1025', '1440x800', '3240x2160', '1152x648', '2048x1152', '1356x900', '1280x1023', '2400x1500', '2710x1440', '1441x901', '2400x1600', '1511x944', '2880x1620', '3838x2160', '921x691', '6400x3600', '2304x1440', '2816x1760', '1919x1200', '1599x899', '2882x1442', '1776x1000', '2700x1800', '1280x900', '2672x1440', '1920x1201', '1624x1080', '3839x2159', '1584x990', '2160x1080', '1919x1080', '5760x1080', '3840x1600', '2160x1081', '2010x1080', '2048x1280', '1658x946', '1296x774', '1920x1018', '1400x1050', '1280x1025', '1919x1199', '1359x768', '3696x2310', '1680x1051', '2961x1440', '4096x2304', '1921x1081', '1439x809', '3840x2162', '1439x900', '6016x3384', '2400x1350', '1440x720', '768x576', '960x640', '2100x1312', '600x450', '1408x880', '3838x2158', '1023x767', '1919x1079', '3843x2163', '2999x2000', '5040x3150', '1371x857', '1848x1155', '1720x1440', '2559x1440', '1536x960', '1280x740', '2304x1296', '1281x800', '1727x971', '1920x1279', '1280x600', '2160x1439', '2591x1619', '1600x837', '1360x767', '1024x767', '1281x720', '3199x1800', '1422x889', '2255x1503', '2880x1442', '1679x1049', '1025x768', '2737x1825', '3200x1800', '1023x768', '2048x1278', '1729x973', '1092x614', '1272x960', '1200x675', '4200x2625', '1062x630', '1596x710', '1918x1080', '1700x960', '1480x720', '1138x640', '1368x768', '2520x1575', '1281x801', '1264x924', '1229x691', '976x600', '3360x1890', '2562x1442', '2000x1125', '1440x899', '1805x1015', '1680x1049', '3841x2161', '3072x1728', '1279x1024', '1707x960', '1776x1080', '1824x1026', '6720x3780', '5760x3240', '1600x899', '1599x900', '1536x1152', '3600x2250', '1440x803', '1120x700', '2552x1337', '2816x1584', '480x320', '2561x1442', '3360x1050', '3440x1440', '1279x1023', '3839x2160', '1093x615', '1344x840', '2559x1439', '3840x1080', '2048x1080', '1281x721', '1280x732', '1400x900', '2800x1575', '1600x1000', '2560x1800', '2735x1823', '1024x819', '1232x800', '1680x945', '2560x1700', '1800x1125', '2392x1440', '3840x2400', '7500x5000', '1921x1080', '1638x922', '1152x720', '3520x1980', '1280x620', '2160x1215', '2256x1504', '1188x720', '2368x1440'}\n",
            "\n",
            "id_34, Categories not involved in frauds = 1\n",
            "{'match_status:-1'}\n",
            "\n",
            "id_35, Categories not involved in frauds = 0\n",
            "\n",
            "id_37, Categories not involved in frauds = 0\n",
            "\n",
            "id_38, Categories not involved in frauds = 0\n",
            "\n"
          ],
          "name": "stdout"
        }
      ]
    },
    {
      "cell_type": "markdown",
      "metadata": {
        "id": "G7EcBWCS3pqU",
        "colab_type": "text"
      },
      "source": [
        "So except card6 and id_34, other features might benefit from having categories reduction."
      ]
    },
    {
      "cell_type": "markdown",
      "metadata": {
        "id": "NqrSy2Zf88nF",
        "colab_type": "text"
      },
      "source": [
        "#### Replace categories not involved in frauds with a single category name: 'others'"
      ]
    },
    {
      "cell_type": "code",
      "metadata": {
        "id": "mjRFEFS16Nat",
        "colab_type": "code",
        "colab": {}
      },
      "source": [
        "to_replace = dict()\n",
        "for col in obj_cols:\n",
        "    set_all_cats = set(X[col].value_counts().index)\n",
        "    set_fraud_cats = set(X.loc[y==1][col].value_counts().index) \n",
        "    if len(set_all_cats) - len(set_fraud_cats) > 5:\n",
        "        to_replace[col] = list(set_all_cats - set_fraud_cats)\n",
        "\n",
        "X[obj_cols] = X[obj_cols].replace(to_replace, 'others')"
      ],
      "execution_count": 0,
      "outputs": []
    },
    {
      "cell_type": "code",
      "metadata": {
        "id": "6pKRB4__AJaK",
        "colab_type": "code",
        "outputId": "99b1ea64-864a-426e-c0ea-3d33fa982a8b",
        "colab": {
          "base_uri": "https://localhost:8080/",
          "height": 410
        }
      },
      "source": [
        "X[obj_cols].apply(lambda x: x.nunique())"
      ],
      "execution_count": 20,
      "outputs": [
        {
          "output_type": "execute_result",
          "data": {
            "text/plain": [
              "ProductCD          4\n",
              "card4              5\n",
              "card6              4\n",
              "P_emaildomain     34\n",
              "R_emaildomain     34\n",
              "M4                 4\n",
              "DeviceType         3\n",
              "DeviceInfo       422\n",
              "id_12              2\n",
              "id_15              4\n",
              "id_16              3\n",
              "id_28              3\n",
              "id_29              3\n",
              "id_30             61\n",
              "id_31            101\n",
              "id_33             61\n",
              "id_34              5\n",
              "id_35              3\n",
              "id_37              3\n",
              "id_38              3\n",
              "dtype: int64"
            ]
          },
          "metadata": {
            "tags": []
          },
          "execution_count": 20
        }
      ]
    },
    {
      "cell_type": "markdown",
      "metadata": {
        "id": "NvsqMN17IX56",
        "colab_type": "text"
      },
      "source": [
        "#### Try to reduce DeviceInfo categories\n",
        "Trey grouping devices into brand names\n"
      ]
    },
    {
      "cell_type": "code",
      "metadata": {
        "id": "WOnvv2uCGXsd",
        "colab_type": "code",
        "colab": {}
      },
      "source": [
        "X['DeviceInfo'].value_counts()"
      ],
      "execution_count": 0,
      "outputs": []
    },
    {
      "cell_type": "code",
      "metadata": {
        "id": "HAenYvtDaN72",
        "colab_type": "code",
        "colab": {}
      },
      "source": [
        "def rename_device(d):\n",
        "    \n",
        "    d = d.lower()\n",
        "      \n",
        "    \n",
        "    for ss in ['unknown', 'others']:\n",
        "        if d.startswith(ss):\n",
        "            return ss\n",
        "    for ss in ['win']:\n",
        "        if d.startswith(ss):\n",
        "            return 'windows'\n",
        "    for ss in ['ios', 'iphone']:\n",
        "        if d.startswith(ss):\n",
        "            return 'ios'\n",
        "    for ss in ['mac']:\n",
        "        if d.startswith(ss):\n",
        "            return 'mac os'\n",
        "    for ss in ['others']:\n",
        "        if d.startswith(ss):\n",
        "            return 'others'\n",
        "    for ss in ['tri']:\n",
        "        if d.startswith(ss):\n",
        "            return 'trident'\n",
        "    for ss in ['rv:']:\n",
        "        if d.startswith(ss):\n",
        "            return 'mozilla'\n",
        "    for ss in ['sm', 'sams', 'gt']:\n",
        "        if d.startswith(ss):\n",
        "            return 'samsung'\n",
        "    for ss in ['ale', 'hi', 'sla', 'cam', 'pra', 'trt', 'hua', 'was', 'mya', 'rne', 'cro', 'bll', 'chc']:\n",
        "        if d.startswith(ss):\n",
        "            return 'huawei'\n",
        "    if 'huaw' in d:\n",
        "        return 'huawei'\n",
        "    \n",
        "    for ss in ['moto', 'xt']:\n",
        "        if d.startswith(ss):\n",
        "            return 'motorola'\n",
        "    for ss in ['z410', 'tab', 'len']:\n",
        "        if d.startswith(ss):\n",
        "            return 'lenovo'\n",
        "    for ss in ['blade', 'zte', 'n95', 'z55', 'z7', 'z8', 'z9']:\n",
        "        if d.startswith(ss):\n",
        "            return 'zte'\n",
        "    for ss in ['lg', 'vs']:\n",
        "        if d.startswith(ss):\n",
        "            return 'lg'\n",
        "    for ss in ['htc']:\n",
        "        if d.startswith(ss):\n",
        "            return 'htc'\n",
        "    for ss in ['mi', 'redmi']:\n",
        "        if d.startswith(ss):\n",
        "            return 'mi'\n",
        "    for ss in ['f3', 'f5']:\n",
        "        if d.startswith(ss):\n",
        "            return 'sony'\n",
        "    for ss in ['50', 'alca']:\n",
        "        if d.startswith(ss):\n",
        "            return 'alcatel'\n",
        "    for ss in ['kf']:\n",
        "        if d.startswith(ss):\n",
        "            return 'kindle'\n",
        "    return 'other_brands'"
      ],
      "execution_count": 0,
      "outputs": []
    },
    {
      "cell_type": "code",
      "metadata": {
        "id": "PaxAzsUvb_Bm",
        "colab_type": "code",
        "colab": {
          "base_uri": "https://localhost:8080/",
          "height": 36
        },
        "outputId": "fe8e27a0-b1bc-405b-dcfb-6cc42f505d62"
      },
      "source": [
        "X['DeviceInfo'] = X['DeviceInfo'].apply(rename_device)\n",
        "print(f'Number of categories of DeviceInfo was reduced to {X[\"DeviceInfo\"].nunique()}')"
      ],
      "execution_count": 42,
      "outputs": [
        {
          "output_type": "stream",
          "text": [
            "Number of categories of DeviceInfo was reduced to 15\n"
          ],
          "name": "stdout"
        }
      ]
    },
    {
      "cell_type": "markdown",
      "metadata": {
        "id": "etquu4BMdsVO",
        "colab_type": "text"
      },
      "source": [
        "#### Try to reduce id_30 categories\n",
        "Try grouping values into brand names"
      ]
    },
    {
      "cell_type": "code",
      "metadata": {
        "id": "nLmsFtq0co2_",
        "colab_type": "code",
        "colab": {
          "base_uri": "https://localhost:8080/",
          "height": 1000
        },
        "outputId": "4ffa92ec-ddab-4671-baf0-80b7df435e41"
      },
      "source": [
        "X['id_30'].value_counts()"
      ],
      "execution_count": 38,
      "outputs": [
        {
          "output_type": "execute_result",
          "data": {
            "text/plain": [
              "unknown             66668\n",
              "Windows 10          21155\n",
              "Windows 7           13110\n",
              "iOS 11.2.1           3722\n",
              "iOS 11.1.2           3699\n",
              "Android 7.0          2871\n",
              "Mac OS X 10_12_6     2559\n",
              "Mac OS X 10_11_6     2348\n",
              "iOS 11.3.0           2016\n",
              "Windows 8.1          1914\n",
              "Mac OS X 10_10_5     1651\n",
              "iOS 11.2.6           1647\n",
              "iOS 10.3.3           1558\n",
              "Mac OS X 10_13_2     1421\n",
              "Mac OS X 10_13_1     1211\n",
              "iOS 11.2.5           1200\n",
              "Linux                1136\n",
              "Android              1079\n",
              "iOS 11.2.2            902\n",
              "Mac OS X 10_13_3      860\n",
              "iOS 11.2.0            852\n",
              "others                773\n",
              "Mac OS X 10_13_4      759\n",
              "iOS 11.1.1            700\n",
              "iOS 11.0.3            659\n",
              "Android 7.1.1         630\n",
              "Mac OS X 10_9_5       570\n",
              "Android 6.0.1         566\n",
              "iOS 10.3.2            428\n",
              "iOS 9.3.5             414\n",
              "                    ...  \n",
              "Android 8.0.0         343\n",
              "Mac                   303\n",
              "Mac OS X 10.13        287\n",
              "iOS 10.2.1            285\n",
              "iOS                   274\n",
              "iOS 11.1.0            271\n",
              "Windows Vista         246\n",
              "iOS 10.3.1            236\n",
              "Mac OS X 10.12        218\n",
              "Mac OS X 10_12_5      217\n",
              "Mac OS X 10.11        200\n",
              "Android 8.1.0         192\n",
              "Windows 8             180\n",
              "iOS 11.0.2            166\n",
              "iOS 10.2.0            149\n",
              "iOS 11.0.0            144\n",
              "iOS 11.3.1            136\n",
              "Mac OS X 10.10        135\n",
              "Windows XP            131\n",
              "iOS 11.0.1            127\n",
              "Mac OS X 10_12_3       95\n",
              "iOS 10.0.2             95\n",
              "Mac OS X 10_11_5       82\n",
              "Android 6.0            80\n",
              "Android 4.4.2          63\n",
              "Mac OS X 10_11_4       53\n",
              "Mac OS X 10_12_1       44\n",
              "Android 7.1.2          33\n",
              "other                  15\n",
              "iOS 11.4.0              5\n",
              "Name: id_30, Length: 61, dtype: int64"
            ]
          },
          "metadata": {
            "tags": []
          },
          "execution_count": 38
        }
      ]
    },
    {
      "cell_type": "code",
      "metadata": {
        "id": "MNxDIPcaeFoz",
        "colab_type": "code",
        "colab": {}
      },
      "source": [
        "def rename_id_30(d):\n",
        "    d = d.lower()\n",
        "    \n",
        "    if d.startswith('mac'):\n",
        "        return 'mac os'\n",
        "    \n",
        "    for ss in ['unknown', 'others', 'windows', 'ios', 'android', 'linux']:\n",
        "        if d.startswith(ss):\n",
        "            return ss\n",
        "    \n",
        "    return 'other_brands'"
      ],
      "execution_count": 0,
      "outputs": []
    },
    {
      "cell_type": "code",
      "metadata": {
        "id": "WH8CTRMEiGdg",
        "colab_type": "code",
        "colab": {
          "base_uri": "https://localhost:8080/",
          "height": 36
        },
        "outputId": "3b15430e-5557-4d18-f76a-e909c4a097b6"
      },
      "source": [
        "X['id_30'] = X['id_30'].apply(rename_device)\n",
        "print(f'Number of categories of id_30 was reduced to {X[\"id_30\"].nunique()}')"
      ],
      "execution_count": 48,
      "outputs": [
        {
          "output_type": "stream",
          "text": [
            "Number of categories of id_30 was reduced to 6\n"
          ],
          "name": "stdout"
        }
      ]
    },
    {
      "cell_type": "markdown",
      "metadata": {
        "id": "Dx2YMwecllwp",
        "colab_type": "text"
      },
      "source": [
        "#### Try to reduce id_31 categories\n",
        "Try grouping values into brand names"
      ]
    },
    {
      "cell_type": "code",
      "metadata": {
        "id": "u2YjAmnZlqD3",
        "colab_type": "code",
        "colab": {
          "base_uri": "https://localhost:8080/",
          "height": 1000
        },
        "outputId": "62508a10-9a23-476d-cc31-db839475b11b"
      },
      "source": [
        "X['id_31'].value_counts()"
      ],
      "execution_count": 50,
      "outputs": [
        {
          "output_type": "execute_result",
          "data": {
            "text/plain": [
              "chrome 63.0                   22000\n",
              "mobile safari 11.0            13423\n",
              "mobile safari generic         11474\n",
              "ie 11.0 for desktop            9030\n",
              "safari generic                 8195\n",
              "chrome 62.0                    7182\n",
              "chrome 65.0                    6871\n",
              "chrome 64.0                    6711\n",
              "chrome 63.0 for android        5806\n",
              "chrome generic                 4778\n",
              "chrome 66.0                    4264\n",
              "edge 16.0                      4188\n",
              "unknown                        3951\n",
              "chrome 64.0 for android        3473\n",
              "chrome 65.0 for android        3336\n",
              "firefox 57.0                   3315\n",
              "mobile safari 10.0             2779\n",
              "chrome 66.0 for android        2349\n",
              "chrome 62.0 for android        2097\n",
              "edge 15.0                      1600\n",
              "chrome generic for android     1158\n",
              "firefox 59.0                   1099\n",
              "samsung browser 6.2            1061\n",
              "firefox 58.0                    833\n",
              "chrome 49.0                     719\n",
              "firefox                         673\n",
              "ie 11.0 for tablet              647\n",
              "chrome 61.0                     642\n",
              "safari 11.0                     550\n",
              "mobile safari 9.0               541\n",
              "                              ...  \n",
              "chrome 55.0                      64\n",
              "edge 13.0                        62\n",
              "chrome 62.0 for ios              61\n",
              "edge                             58\n",
              "Generic/Android                  57\n",
              "ie                               56\n",
              "chrome 51.0                      56\n",
              "opera 52.0                       55\n",
              "mobile safari 8.0                54\n",
              "chrome 49.0 for android          53\n",
              "Samsung/SM-G531H                 52\n",
              "opera 51.0                       49\n",
              "opera 53.0                       46\n",
              "chrome 51.0 for android          45\n",
              "samsung browser 5.4              43\n",
              "safari 9.0                       43\n",
              "samsung browser 5.2              41\n",
              "samsung browser 4.0              37\n",
              "firefox 47.0                     37\n",
              "google                           36\n",
              "chrome 67.0                      33\n",
              "firefox 55.0                     20\n",
              "samsung browser 4.2              18\n",
              "samsung                          16\n",
              "mobile                           11\n",
              "ZTE/Blade                         9\n",
              "comodo                            6\n",
              "icedragon                         5\n",
              "Mozilla/Firefox                   5\n",
              "Lanix/Ilium                       3\n",
              "Name: id_31, Length: 101, dtype: int64"
            ]
          },
          "metadata": {
            "tags": []
          },
          "execution_count": 50
        }
      ]
    },
    {
      "cell_type": "code",
      "metadata": {
        "id": "ouOQP9_RmHl0",
        "colab_type": "code",
        "colab": {}
      },
      "source": [
        "def rename_id_31(d):\n",
        "    d = d.lower()\n",
        "    \n",
        "    if d.startswith('chrome'):\n",
        "        if 'android' in d:\n",
        "            return 'chrome for android'\n",
        "        else:\n",
        "            return 'chrome'\n",
        "    \n",
        "    for ss in ['android', 'firefox']:\n",
        "        if ss in d:\n",
        "            return ss\n",
        "    \n",
        "    for ss in ['unknown', 'others', 'edge', 'ie', 'samsung', 'opera', 'safari', 'mobile safari', 'google']:\n",
        "        if d.startswith(ss):\n",
        "            return ss\n",
        "    \n",
        "    return 'other_brands'"
      ],
      "execution_count": 0,
      "outputs": []
    },
    {
      "cell_type": "code",
      "metadata": {
        "id": "-Auz_QN70nkk",
        "colab_type": "code",
        "colab": {
          "base_uri": "https://localhost:8080/",
          "height": 36
        },
        "outputId": "2f9b2fa6-dbd4-4ffe-b2d1-1846043a4b86"
      },
      "source": [
        "X['id_31'] = X['id_31'].apply(rename_device)\n",
        "print(f'Number of categories of id_31 was reduced to {X[\"id_31\"].nunique()}')"
      ],
      "execution_count": 66,
      "outputs": [
        {
          "output_type": "stream",
          "text": [
            "Number of categories of id_31 was reduced to 5\n"
          ],
          "name": "stdout"
        }
      ]
    },
    {
      "cell_type": "markdown",
      "metadata": {
        "id": "YS5D_9ew04Zs",
        "colab_type": "text"
      },
      "source": [
        "#### Convert id_33 to non-object dtype categorical feature.\n",
        "id_33 categories are screen resolutions"
      ]
    },
    {
      "cell_type": "code",
      "metadata": {
        "id": "UNxLIrTj03z3",
        "colab_type": "code",
        "colab": {}
      },
      "source": [
        "X['id_33'] = X['id_33'].apply(lambda v: v.split('x')[1 if 'x' in v else 0]).replace(['unknown', 'others'], np.nan).astype(np.float32)"
      ],
      "execution_count": 0,
      "outputs": []
    },
    {
      "cell_type": "code",
      "metadata": {
        "id": "LiDzkojDIsok",
        "colab_type": "code",
        "colab": {}
      },
      "source": [
        "obj_cols.remove('id_33')\n",
        "non_obj_cols = [col for col in cat_cols if X[col].dtype != 'object'] + ['id_33']"
      ],
      "execution_count": 0,
      "outputs": []
    },
    {
      "cell_type": "markdown",
      "metadata": {
        "id": "23FSmZAZU_mI",
        "colab_type": "text"
      },
      "source": [
        "### Use simple encoding for non-object dtype features"
      ]
    },
    {
      "cell_type": "code",
      "metadata": {
        "id": "Epwpy0zgOb1Q",
        "colab_type": "code",
        "colab": {
          "base_uri": "https://localhost:8080/",
          "height": 36
        },
        "outputId": "b8aa330a-db6f-4e86-9df6-4f7e9f1d91a7"
      },
      "source": [
        "X[non_obj_cols] = X[non_obj_cols].fillna('nan')\n",
        "ord_enc = OrdinalEncoder()\n",
        "ord_enc.fit(X[non_obj_cols].astype(str))"
      ],
      "execution_count": 107,
      "outputs": [
        {
          "output_type": "execute_result",
          "data": {
            "text/plain": [
              "OrdinalEncoder(categories='auto', dtype=<class 'numpy.float64'>)"
            ]
          },
          "metadata": {
            "tags": []
          },
          "execution_count": 107
        }
      ]
    },
    {
      "cell_type": "markdown",
      "metadata": {
        "id": "dHMFA8m9UAD8",
        "colab_type": "text"
      },
      "source": [
        "### Split data into train and test sets\n",
        "Since fraud and non-fraud clsses are imbalanced, we use StatifiedShuffleSplit to make the ratio of frauds in both train and test sets similar."
      ]
    },
    {
      "cell_type": "code",
      "metadata": {
        "id": "STQJ5w9VPC92",
        "colab_type": "code",
        "colab": {}
      },
      "source": [
        "sss = StratifiedShuffleSplit(n_splits=1)\n",
        "for train_rows, test_rows in sss.split(X, y):\n",
        "    X_train, X_test = X.iloc[train_rows], X.iloc[test_rows]\n",
        "    y_train, y_test = y.iloc[train_rows], y.iloc[test_rows]\n",
        "del X, y # to save some memory"
      ],
      "execution_count": 0,
      "outputs": []
    },
    {
      "cell_type": "markdown",
      "metadata": {
        "id": "ABjfUotuVPEk",
        "colab_type": "text"
      },
      "source": [
        "### Impute missing values in numeric features with the mean of each feature"
      ]
    },
    {
      "cell_type": "code",
      "metadata": {
        "id": "LB1wKIArPasv",
        "colab_type": "code",
        "colab": {}
      },
      "source": [
        "imp = SimpleImputer(strategy='mean')\n",
        "imp.fit(X_train[num_cols])\n",
        "X_train[num_cols] = imp.transform(X_train[num_cols])"
      ],
      "execution_count": 0,
      "outputs": []
    },
    {
      "cell_type": "markdown",
      "metadata": {
        "id": "K471wixJVbWE",
        "colab_type": "text"
      },
      "source": [
        "### Normalize numeric features"
      ]
    },
    {
      "cell_type": "code",
      "metadata": {
        "id": "PZu7PXDsPlYU",
        "colab_type": "code",
        "colab": {}
      },
      "source": [
        "scaler = StandardScaler()\n",
        "scaler.fit(X_train[num_cols])\n",
        "X_train[num_cols] = scaler.transform(X_train[num_cols])"
      ],
      "execution_count": 0,
      "outputs": []
    },
    {
      "cell_type": "markdown",
      "metadata": {
        "id": "rksFWIxnVljD",
        "colab_type": "text"
      },
      "source": [
        "### One-hot encode the object detype categorical features"
      ]
    },
    {
      "cell_type": "code",
      "metadata": {
        "id": "2Ajk8LlQQp2u",
        "colab_type": "code",
        "colab": {
          "base_uri": "https://localhost:8080/",
          "height": 73
        },
        "outputId": "f22d9332-0ac3-46d5-99fd-6d5234cd64fa"
      },
      "source": [
        "oht_enc = OneHotEncoder(handle_unknown='ignore')\n",
        "oht_enc.fit(X_train[obj_cols].astype(str))"
      ],
      "execution_count": 111,
      "outputs": [
        {
          "output_type": "execute_result",
          "data": {
            "text/plain": [
              "OneHotEncoder(categorical_features=None, categories=None, drop=None,\n",
              "              dtype=<class 'numpy.float64'>, handle_unknown='ignore',\n",
              "              n_values=None, sparse=True)"
            ]
          },
          "metadata": {
            "tags": []
          },
          "execution_count": 111
        }
      ]
    },
    {
      "cell_type": "code",
      "metadata": {
        "id": "1r8bHY22PYkP",
        "colab_type": "code",
        "colab": {}
      },
      "source": [
        "arr_num = np.array(X_train[num_cols])\n",
        "arr_non_obj = np.array(ord_enc.transform(X_train[non_obj_cols].astype(str)))\n",
        "arr_obj = oht_enc.transform(X_train[obj_cols].astype(str)).toarray()\n",
        "X_train = np.concatenate((arr_num, arr_non_obj, arr_obj), axis=1)"
      ],
      "execution_count": 0,
      "outputs": []
    },
    {
      "cell_type": "markdown",
      "metadata": {
        "id": "D4IneuAFVvS1",
        "colab_type": "text"
      },
      "source": [
        "### Create and fit the Logistic Regression Model "
      ]
    },
    {
      "cell_type": "code",
      "metadata": {
        "id": "CUxzyTPbRh-z",
        "colab_type": "code",
        "colab": {
          "base_uri": "https://localhost:8080/",
          "height": 205
        },
        "outputId": "2f306022-1bac-45f2-9a6b-5f02eb85febd"
      },
      "source": [
        "model = LogisticRegression()\n",
        "model.fit(X_train, y_train)"
      ],
      "execution_count": 114,
      "outputs": [
        {
          "output_type": "stream",
          "text": [
            "/usr/local/lib/python3.6/dist-packages/sklearn/linear_model/logistic.py:432: FutureWarning: Default solver will be changed to 'lbfgs' in 0.22. Specify a solver to silence this warning.\n",
            "  FutureWarning)\n",
            "/usr/local/lib/python3.6/dist-packages/sklearn/svm/base.py:929: ConvergenceWarning: Liblinear failed to converge, increase the number of iterations.\n",
            "  \"the number of iterations.\", ConvergenceWarning)\n"
          ],
          "name": "stderr"
        },
        {
          "output_type": "execute_result",
          "data": {
            "text/plain": [
              "LogisticRegression(C=1.0, class_weight=None, dual=False, fit_intercept=True,\n",
              "                   intercept_scaling=1, l1_ratio=None, max_iter=100,\n",
              "                   multi_class='warn', n_jobs=None, penalty='l2',\n",
              "                   random_state=None, solver='warn', tol=0.0001, verbose=0,\n",
              "                   warm_start=False)"
            ]
          },
          "metadata": {
            "tags": []
          },
          "execution_count": 114
        }
      ]
    },
    {
      "cell_type": "markdown",
      "metadata": {
        "id": "tRQm5S-MV55c",
        "colab_type": "text"
      },
      "source": [
        "### Preprocess the test data in the same way as we did the train data"
      ]
    },
    {
      "cell_type": "code",
      "metadata": {
        "id": "bm_Yo1_qSPY6",
        "colab_type": "code",
        "colab": {}
      },
      "source": [
        "X_test[num_cols] = imp.transform(X_test[num_cols])\n",
        "X_test[num_cols] = scaler.transform(X_test[num_cols])\n",
        "X_test[non_obj_cols] = X_test[non_obj_cols].fillna('nan')\n",
        "\n",
        "arr_num = np.array(X_test[num_cols])\n",
        "arr_non_obj = np.array(ord_enc.transform(X_test[non_obj_cols].astype(str)))\n",
        "arr_obj = oht_enc.transform(X_test[obj_cols].astype(str)).toarray()\n",
        "X_test = np.concatenate((arr_num, arr_non_obj, arr_obj), axis=1)"
      ],
      "execution_count": 0,
      "outputs": []
    },
    {
      "cell_type": "markdown",
      "metadata": {
        "id": "8Ot-dZjdgsoQ",
        "colab_type": "text"
      },
      "source": [
        "### Evaluate the model with test data"
      ]
    },
    {
      "cell_type": "code",
      "metadata": {
        "id": "7UJn9edWRnTW",
        "colab_type": "code",
        "colab": {
          "base_uri": "https://localhost:8080/",
          "height": 204
        },
        "outputId": "ce0724af-fc30-4e22-bb9c-4705288896b8"
      },
      "source": [
        "y_pred = model.predict(X_test)\n",
        "print('Classification Report')\n",
        "print(classification_report(y_test, y_pred, target_names=['normal', 'fraud']))"
      ],
      "execution_count": 127,
      "outputs": [
        {
          "output_type": "stream",
          "text": [
            "Classification Report\n",
            "              precision    recall  f1-score   support\n",
            "\n",
            "      normal       0.96      0.99      0.97     13292\n",
            "       fraud       0.83      0.46      0.60      1132\n",
            "\n",
            "    accuracy                           0.95     14424\n",
            "   macro avg       0.89      0.73      0.78     14424\n",
            "weighted avg       0.95      0.95      0.94     14424\n",
            "\n"
          ],
          "name": "stdout"
        }
      ]
    },
    {
      "cell_type": "markdown",
      "metadata": {
        "id": "TyRdegPnXhP_",
        "colab_type": "text"
      },
      "source": [
        "### Conclusion\n",
        "Using this baseline Logistic Regression model, we can only predict 46% of fraud cases in the test data (recall=0.46) but those we predict as fraud cases have high probability of being fraud (precision=0.83). "
      ]
    },
    {
      "cell_type": "code",
      "metadata": {
        "id": "Y44_I5DPHOeO",
        "colab_type": "code",
        "colab": {}
      },
      "source": [
        ""
      ],
      "execution_count": 0,
      "outputs": []
    }
  ]
}